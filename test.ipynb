{
 "cells": [
  {
   "cell_type": "code",
   "execution_count": 1,
   "metadata": {},
   "outputs": [],
   "source": [
    "import pandas as pd\n",
    "import numpy as np \n"
   ]
  },
  {
   "cell_type": "code",
   "execution_count": 15,
   "metadata": {},
   "outputs": [],
   "source": [
    "df = pd.read_csv('energy.csv')\n",
    "df.drop(columns = df.columns[0], axis = 1,inplace = True )"
   ]
  },
  {
   "cell_type": "code",
   "execution_count": 16,
   "metadata": {},
   "outputs": [
    {
     "data": {
      "text/html": [
       "<div>\n",
       "<style scoped>\n",
       "    .dataframe tbody tr th:only-of-type {\n",
       "        vertical-align: middle;\n",
       "    }\n",
       "\n",
       "    .dataframe tbody tr th {\n",
       "        vertical-align: top;\n",
       "    }\n",
       "\n",
       "    .dataframe thead th {\n",
       "        text-align: right;\n",
       "    }\n",
       "</style>\n",
       "<table border=\"1\" class=\"dataframe\">\n",
       "  <thead>\n",
       "    <tr style=\"text-align: right;\">\n",
       "      <th></th>\n",
       "      <th>Country</th>\n",
       "      <th>Energy_type</th>\n",
       "      <th>Year</th>\n",
       "      <th>Energy_consumption</th>\n",
       "      <th>Energy_production</th>\n",
       "      <th>GDP</th>\n",
       "      <th>Population</th>\n",
       "      <th>Energy_intensity_per_capita</th>\n",
       "      <th>Energy_intensity_by_GDP</th>\n",
       "      <th>CO2_emission</th>\n",
       "    </tr>\n",
       "  </thead>\n",
       "  <tbody>\n",
       "    <tr>\n",
       "      <th>0</th>\n",
       "      <td>World</td>\n",
       "      <td>all_energy_types</td>\n",
       "      <td>1980</td>\n",
       "      <td>292.899790</td>\n",
       "      <td>296.337228</td>\n",
       "      <td>27770.910281</td>\n",
       "      <td>4.298127e+06</td>\n",
       "      <td>68.145921</td>\n",
       "      <td>10.547</td>\n",
       "      <td>4946.627130</td>\n",
       "    </tr>\n",
       "    <tr>\n",
       "      <th>1</th>\n",
       "      <td>World</td>\n",
       "      <td>coal</td>\n",
       "      <td>1980</td>\n",
       "      <td>78.656134</td>\n",
       "      <td>80.114194</td>\n",
       "      <td>27770.910281</td>\n",
       "      <td>4.298127e+06</td>\n",
       "      <td>68.145921</td>\n",
       "      <td>10.547</td>\n",
       "      <td>1409.790188</td>\n",
       "    </tr>\n",
       "    <tr>\n",
       "      <th>2</th>\n",
       "      <td>World</td>\n",
       "      <td>natural_gas</td>\n",
       "      <td>1980</td>\n",
       "      <td>53.865223</td>\n",
       "      <td>54.761046</td>\n",
       "      <td>27770.910281</td>\n",
       "      <td>4.298127e+06</td>\n",
       "      <td>68.145921</td>\n",
       "      <td>10.547</td>\n",
       "      <td>1081.593377</td>\n",
       "    </tr>\n",
       "    <tr>\n",
       "      <th>3</th>\n",
       "      <td>World</td>\n",
       "      <td>petroleum_n_other_liquids</td>\n",
       "      <td>1980</td>\n",
       "      <td>132.064019</td>\n",
       "      <td>133.111109</td>\n",
       "      <td>27770.910281</td>\n",
       "      <td>4.298127e+06</td>\n",
       "      <td>68.145921</td>\n",
       "      <td>10.547</td>\n",
       "      <td>2455.243565</td>\n",
       "    </tr>\n",
       "    <tr>\n",
       "      <th>4</th>\n",
       "      <td>World</td>\n",
       "      <td>nuclear</td>\n",
       "      <td>1980</td>\n",
       "      <td>7.575700</td>\n",
       "      <td>7.575700</td>\n",
       "      <td>27770.910281</td>\n",
       "      <td>4.298127e+06</td>\n",
       "      <td>68.145921</td>\n",
       "      <td>10.547</td>\n",
       "      <td>0.000000</td>\n",
       "    </tr>\n",
       "  </tbody>\n",
       "</table>\n",
       "</div>"
      ],
      "text/plain": [
       "  Country                Energy_type  Year  Energy_consumption  \\\n",
       "0   World           all_energy_types  1980          292.899790   \n",
       "1   World                       coal  1980           78.656134   \n",
       "2   World                natural_gas  1980           53.865223   \n",
       "3   World  petroleum_n_other_liquids  1980          132.064019   \n",
       "4   World                    nuclear  1980            7.575700   \n",
       "\n",
       "   Energy_production           GDP    Population  Energy_intensity_per_capita  \\\n",
       "0         296.337228  27770.910281  4.298127e+06                    68.145921   \n",
       "1          80.114194  27770.910281  4.298127e+06                    68.145921   \n",
       "2          54.761046  27770.910281  4.298127e+06                    68.145921   \n",
       "3         133.111109  27770.910281  4.298127e+06                    68.145921   \n",
       "4           7.575700  27770.910281  4.298127e+06                    68.145921   \n",
       "\n",
       "   Energy_intensity_by_GDP  CO2_emission  \n",
       "0                   10.547   4946.627130  \n",
       "1                   10.547   1409.790188  \n",
       "2                   10.547   1081.593377  \n",
       "3                   10.547   2455.243565  \n",
       "4                   10.547      0.000000  "
      ]
     },
     "execution_count": 16,
     "metadata": {},
     "output_type": "execute_result"
    }
   ],
   "source": [
    "df.head()"
   ]
  },
  {
   "cell_type": "code",
   "execution_count": 19,
   "metadata": {},
   "outputs": [
    {
     "data": {
      "text/plain": [
       "(55440, 10)"
      ]
     },
     "execution_count": 19,
     "metadata": {},
     "output_type": "execute_result"
    }
   ],
   "source": [
    "df.shape"
   ]
  },
  {
   "cell_type": "code",
   "execution_count": 26,
   "metadata": {},
   "outputs": [
    {
     "name": "stdout",
     "output_type": "stream",
     "text": [
      "Country 0\n",
      "Energy_type 0\n",
      "Year 0\n",
      "Energy_consumption 11153\n",
      "Energy_production 11151\n",
      "GDP 15414\n",
      "Population 9426\n",
      "Energy_intensity_per_capita 5082\n",
      "Energy_intensity_by_GDP 5082\n",
      "CO2_emission 3826\n"
     ]
    }
   ],
   "source": [
    "for i in df.columns:\n",
    "    print(i,np.sum(df[i].isna()))\n"
   ]
  }
 ],
 "metadata": {
  "kernelspec": {
   "display_name": "min_ds-env",
   "language": "python",
   "name": "python3"
  },
  "language_info": {
   "codemirror_mode": {
    "name": "ipython",
    "version": 3
   },
   "file_extension": ".py",
   "mimetype": "text/x-python",
   "name": "python",
   "nbconvert_exporter": "python",
   "pygments_lexer": "ipython3",
   "version": "3.8.8"
  },
  "orig_nbformat": 4
 },
 "nbformat": 4,
 "nbformat_minor": 2
}
