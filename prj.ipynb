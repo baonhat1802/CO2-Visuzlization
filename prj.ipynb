{
 "cells": [
  {
   "attachments": {},
   "cell_type": "markdown",
   "metadata": {},
   "source": [
    "<center>\n",
    "\n",
    "# **PROJECT**\n",
    "\n",
    "# **CO2 EMISSION**\n",
    "\n",
    "\n",
    "\n",
    "</center>"
   ]
  },
  {
   "attachments": {},
   "cell_type": "markdown",
   "metadata": {},
   "source": [
    "<center>\n",
    "\n",
    "# **Mục lục** <a name = \"TOC\"></a>\n",
    "\n",
    "</center>\n",
    "\n",
    "- [1. Giới thiệu thành viên](#section1)\n",
    "- [2. Các thư viện sử dụng](#section2)\n",
    "- [3. Mô tả dữ liệu](#section3)\n",
    "- [4. Xử lý dữ liệu](#section4)\n",
    "    - [4.1. Đọc dữ liệu vào Dataframe](#section4_1)\n",
    "    - [4.2. Số dòng và số cột của tập dữ liệu](#section4_2)\n",
    "    - [4.3. Ý nghĩa của mỗi dòng](#section4_3)\n",
    "    - [4.4. Kiểm tra các dòng bị trùng lắp](#section4_4)\n",
    "    - [4.5. Ý nghĩa của mỗi cột](#section4_5)\n",
    "    - [4.6. Kiểm tra kiểu dữ liệu của các cột và điều chỉnh cho phù hợp](#section4_6)\n",
    "    - [4.7. Tìm sự phân phối của các cột dữ liệu kiểu số](#section4_7)\n",
    "    - [4.8. Tìm sự phân phối của các cột dữ liệu phân loại](#section4_8)\n",
    "    - [4.9. Xử lý các dòng bị thiếu dữ liệu](#section4_9)\n",
    "- [5. Phân tích dữ liệu](#section5)\n",
    "    - [5.1. Phân tích hồi quy dựa trên OLS](#section5_1)\n",
    "    - [5.2. So sánh các Model để dự đoán CO2 emissions](#section5_2)\n",
    "- [6. Các nguồn tham khảo](#section6)"
   ]
  },
  {
   "attachments": {},
   "cell_type": "markdown",
   "metadata": {},
   "source": [
    "# **1. Giới thiệu thành viên** <a name = \"section1\"></a>\n",
    "[Quay về mục lục](#TOC)"
   ]
  },
  {
   "attachments": {},
   "cell_type": "markdown",
   "metadata": {},
   "source": [
    "| STT | MSSV | HỌ VÀ TÊN |\n",
    "|:----:|:---:|:------:|\n",
    "| 1 | 20127023 | Trần Minh Hiệp |\n",
    "| 2 | 20127058 | Lê Hồ Bảo Nhật |\n",
    "| 3 | 20127088 | Nguyễn Thiện Hoàng Trí |\n",
    "| 4 | 20127288 | Nguyễn Nam Phương |\n",
    "| 5 | 20127603 | Ninh Trần Hoàng Quân |"
   ]
  },
  {
   "attachments": {},
   "cell_type": "markdown",
   "metadata": {},
   "source": [
    "---"
   ]
  },
  {
   "attachments": {},
   "cell_type": "markdown",
   "metadata": {},
   "source": [
    "# **2. Các thư viện sử dụng** <a name = \"section2\"></a>\n",
    "[Quay về mục lục](#TOC)\n"
   ]
  },
  {
   "cell_type": "code",
   "execution_count": 1,
   "metadata": {},
   "outputs": [],
   "source": [
    "import pandas as pd\n",
    "import numpy as np\n",
    "\n",
    "import matplotlib.pylab as plt\n",
    "from statsmodels.graphics.tsaplots import plot_acf, plot_pacf\n",
    "import seaborn as sns\n",
    "from statsmodels.tsa.stattools import adfuller\n",
    "import pmdarima as pm\n",
    "import statsmodels.api as sm\n",
    "\n",
    "import statsmodels.api as sm\n",
    "from sklearn.linear_model import LinearRegression\n",
    "import matplotlib.pyplot as plt"
   ]
  },
  {
   "attachments": {},
   "cell_type": "markdown",
   "metadata": {},
   "source": [
    "---"
   ]
  },
  {
   "attachments": {},
   "cell_type": "markdown",
   "metadata": {},
   "source": [
    "# **3. Mô tả dữ liệu** <a name = \"section3\"></a>\n",
    "[Quay về mục lục](#TOC)"
   ]
  },
  {
   "attachments": {},
   "cell_type": "markdown",
   "metadata": {},
   "source": [
    "Thế giới đang trở nên hiện đại hóa hơn theo từng năm, và cùng với đó là tình trạng ô nhiễm hơn.\n",
    "\n",
    "Dữ liệu này được lấy từ Cơ quan Quản lý Năng lượng Hoa Kỳ và được kết hợp với nhau để phân tích dễ dàng hơn. Đây là tập hợp một số yếu tố lớn ảnh hưởng đến Khí thải C02, với mọi thứ từ Sản xuất và Tiêu thụ của từng loại nguồn năng lượng chính cho mỗi quốc gia và xếp hạng ô nhiễm của quốc gia đó mỗi năm. Nó cũng bao gồm GDP của mỗi quốc gia, Dân số, Cường độ năng lượng trên đầu người (người) và Cường độ năng lượng trên GDP (GDP trên mỗi người). Tất cả dữ liệu kéo dài suốt từ những năm 1980 đến 2020."
   ]
  },
  {
   "attachments": {},
   "cell_type": "markdown",
   "metadata": {},
   "source": [
    "# **4. Xử lý dữ liệu** <a name = \"section4\"></a>\n",
    "[Quay về mục lục](#TOC)"
   ]
  },
  {
   "attachments": {},
   "cell_type": "markdown",
   "metadata": {},
   "source": [
    "## 4.1. Đọc dữ liệu vào Dataframe <a name = \"section4_1\"></a>\n",
    "[Quay về mục lục](#TOC)"
   ]
  },
  {
   "cell_type": "code",
   "execution_count": 2,
   "metadata": {},
   "outputs": [],
   "source": [
    "df = pd.read_csv('energy.csv', index_col=0)"
   ]
  },
  {
   "attachments": {},
   "cell_type": "markdown",
   "metadata": {},
   "source": [
    "## 4.2. Số dòng và số cột của tập dữ liệu <a name = \"section4_2\"></a>\n",
    "[Quay về mục lục](#TOC)"
   ]
  },
  {
   "cell_type": "code",
   "execution_count": 3,
   "metadata": {},
   "outputs": [
    {
     "name": "stdout",
     "output_type": "stream",
     "text": [
      "Số dòng: 55440\n",
      "Số cột 10\n"
     ]
    },
    {
     "data": {
      "text/html": [
       "<div>\n",
       "<style scoped>\n",
       "    .dataframe tbody tr th:only-of-type {\n",
       "        vertical-align: middle;\n",
       "    }\n",
       "\n",
       "    .dataframe tbody tr th {\n",
       "        vertical-align: top;\n",
       "    }\n",
       "\n",
       "    .dataframe thead th {\n",
       "        text-align: right;\n",
       "    }\n",
       "</style>\n",
       "<table border=\"1\" class=\"dataframe\">\n",
       "  <thead>\n",
       "    <tr style=\"text-align: right;\">\n",
       "      <th></th>\n",
       "      <th>Country</th>\n",
       "      <th>Energy_type</th>\n",
       "      <th>Year</th>\n",
       "      <th>Energy_consumption</th>\n",
       "      <th>Energy_production</th>\n",
       "      <th>GDP</th>\n",
       "      <th>Population</th>\n",
       "      <th>Energy_intensity_per_capita</th>\n",
       "      <th>Energy_intensity_by_GDP</th>\n",
       "      <th>CO2_emission</th>\n",
       "    </tr>\n",
       "  </thead>\n",
       "  <tbody>\n",
       "    <tr>\n",
       "      <th>0</th>\n",
       "      <td>World</td>\n",
       "      <td>all_energy_types</td>\n",
       "      <td>1980</td>\n",
       "      <td>292.899790</td>\n",
       "      <td>296.337228</td>\n",
       "      <td>27770.910281</td>\n",
       "      <td>4.298127e+06</td>\n",
       "      <td>68.145921</td>\n",
       "      <td>10.547</td>\n",
       "      <td>4946.627130</td>\n",
       "    </tr>\n",
       "    <tr>\n",
       "      <th>1</th>\n",
       "      <td>World</td>\n",
       "      <td>coal</td>\n",
       "      <td>1980</td>\n",
       "      <td>78.656134</td>\n",
       "      <td>80.114194</td>\n",
       "      <td>27770.910281</td>\n",
       "      <td>4.298127e+06</td>\n",
       "      <td>68.145921</td>\n",
       "      <td>10.547</td>\n",
       "      <td>1409.790188</td>\n",
       "    </tr>\n",
       "    <tr>\n",
       "      <th>2</th>\n",
       "      <td>World</td>\n",
       "      <td>natural_gas</td>\n",
       "      <td>1980</td>\n",
       "      <td>53.865223</td>\n",
       "      <td>54.761046</td>\n",
       "      <td>27770.910281</td>\n",
       "      <td>4.298127e+06</td>\n",
       "      <td>68.145921</td>\n",
       "      <td>10.547</td>\n",
       "      <td>1081.593377</td>\n",
       "    </tr>\n",
       "    <tr>\n",
       "      <th>3</th>\n",
       "      <td>World</td>\n",
       "      <td>petroleum_n_other_liquids</td>\n",
       "      <td>1980</td>\n",
       "      <td>132.064019</td>\n",
       "      <td>133.111109</td>\n",
       "      <td>27770.910281</td>\n",
       "      <td>4.298127e+06</td>\n",
       "      <td>68.145921</td>\n",
       "      <td>10.547</td>\n",
       "      <td>2455.243565</td>\n",
       "    </tr>\n",
       "    <tr>\n",
       "      <th>4</th>\n",
       "      <td>World</td>\n",
       "      <td>nuclear</td>\n",
       "      <td>1980</td>\n",
       "      <td>7.575700</td>\n",
       "      <td>7.575700</td>\n",
       "      <td>27770.910281</td>\n",
       "      <td>4.298127e+06</td>\n",
       "      <td>68.145921</td>\n",
       "      <td>10.547</td>\n",
       "      <td>0.000000</td>\n",
       "    </tr>\n",
       "  </tbody>\n",
       "</table>\n",
       "</div>"
      ],
      "text/plain": [
       "  Country                Energy_type  Year  Energy_consumption  \\\n",
       "0   World           all_energy_types  1980          292.899790   \n",
       "1   World                       coal  1980           78.656134   \n",
       "2   World                natural_gas  1980           53.865223   \n",
       "3   World  petroleum_n_other_liquids  1980          132.064019   \n",
       "4   World                    nuclear  1980            7.575700   \n",
       "\n",
       "   Energy_production           GDP    Population  Energy_intensity_per_capita  \\\n",
       "0         296.337228  27770.910281  4.298127e+06                    68.145921   \n",
       "1          80.114194  27770.910281  4.298127e+06                    68.145921   \n",
       "2          54.761046  27770.910281  4.298127e+06                    68.145921   \n",
       "3         133.111109  27770.910281  4.298127e+06                    68.145921   \n",
       "4           7.575700  27770.910281  4.298127e+06                    68.145921   \n",
       "\n",
       "   Energy_intensity_by_GDP  CO2_emission  \n",
       "0                   10.547   4946.627130  \n",
       "1                   10.547   1409.790188  \n",
       "2                   10.547   1081.593377  \n",
       "3                   10.547   2455.243565  \n",
       "4                   10.547      0.000000  "
      ]
     },
     "execution_count": 3,
     "metadata": {},
     "output_type": "execute_result"
    }
   ],
   "source": [
    "row = df.shape[0]\n",
    "col = df.shape[1]\n",
    "print('Số dòng:', row)\n",
    "print('Số cột', col)\n",
    "df.head()"
   ]
  },
  {
   "attachments": {},
   "cell_type": "markdown",
   "metadata": {},
   "source": [
    "## 4.3. Ý nghĩa của mỗi dòng <a name = \"section4_3\"></a>\n",
    "[Quay về mục lục](#TOC)"
   ]
  },
  {
   "attachments": {},
   "cell_type": "markdown",
   "metadata": {},
   "source": [
    "Mỗi dòng là một năm thông tin cơ bản của một nước. Ngoài ra còn có sự sử dụng CO2 hiệu quả, sản xuất và tiêu thụ của từng loại nguồn năng lượng chính cho mỗi quốc gia đó."
   ]
  },
  {
   "attachments": {},
   "cell_type": "markdown",
   "metadata": {},
   "source": [
    "## 4.4. Kiểm tra các dòng bị trùng lắp <a name = \"section4_4\"></a>\n",
    "[Quay về mục lục](#TOC)"
   ]
  },
  {
   "cell_type": "code",
   "execution_count": 4,
   "metadata": {},
   "outputs": [
    {
     "data": {
      "text/html": [
       "<div>\n",
       "<style scoped>\n",
       "    .dataframe tbody tr th:only-of-type {\n",
       "        vertical-align: middle;\n",
       "    }\n",
       "\n",
       "    .dataframe tbody tr th {\n",
       "        vertical-align: top;\n",
       "    }\n",
       "\n",
       "    .dataframe thead th {\n",
       "        text-align: right;\n",
       "    }\n",
       "</style>\n",
       "<table border=\"1\" class=\"dataframe\">\n",
       "  <thead>\n",
       "    <tr style=\"text-align: right;\">\n",
       "      <th></th>\n",
       "      <th>Country</th>\n",
       "      <th>Energy_type</th>\n",
       "      <th>Year</th>\n",
       "      <th>Energy_consumption</th>\n",
       "      <th>Energy_production</th>\n",
       "      <th>GDP</th>\n",
       "      <th>Population</th>\n",
       "      <th>Energy_intensity_per_capita</th>\n",
       "      <th>Energy_intensity_by_GDP</th>\n",
       "      <th>CO2_emission</th>\n",
       "    </tr>\n",
       "  </thead>\n",
       "  <tbody>\n",
       "  </tbody>\n",
       "</table>\n",
       "</div>"
      ],
      "text/plain": [
       "Empty DataFrame\n",
       "Columns: [Country, Energy_type, Year, Energy_consumption, Energy_production, GDP, Population, Energy_intensity_per_capita, Energy_intensity_by_GDP, CO2_emission]\n",
       "Index: []"
      ]
     },
     "execution_count": 4,
     "metadata": {},
     "output_type": "execute_result"
    }
   ],
   "source": [
    "duplicated = df.duplicated()\n",
    "pd.DataFrame(df[duplicated==True])"
   ]
  },
  {
   "attachments": {},
   "cell_type": "markdown",
   "metadata": {},
   "source": [
    "## 4.5. Ý nghĩa của mỗi cột <a name = \"section4_5\"></a>\n",
    "[Quay về mục lục](#TOC)"
   ]
  },
  {
   "cell_type": "code",
   "execution_count": 5,
   "metadata": {},
   "outputs": [
    {
     "data": {
      "text/html": [
       "<div>\n",
       "<style scoped>\n",
       "    .dataframe tbody tr th:only-of-type {\n",
       "        vertical-align: middle;\n",
       "    }\n",
       "\n",
       "    .dataframe tbody tr th {\n",
       "        vertical-align: top;\n",
       "    }\n",
       "\n",
       "    .dataframe thead th {\n",
       "        text-align: right;\n",
       "    }\n",
       "</style>\n",
       "<table border=\"1\" class=\"dataframe\">\n",
       "  <thead>\n",
       "    <tr style=\"text-align: right;\">\n",
       "      <th></th>\n",
       "      <th>Attribute</th>\n",
       "      <th>Describe</th>\n",
       "    </tr>\n",
       "  </thead>\n",
       "  <tbody>\n",
       "    <tr>\n",
       "      <th>0</th>\n",
       "      <td>Country</td>\n",
       "      <td>Country in question.</td>\n",
       "    </tr>\n",
       "    <tr>\n",
       "      <th>1</th>\n",
       "      <td>Energy_type</td>\n",
       "      <td>Type of energy source.</td>\n",
       "    </tr>\n",
       "    <tr>\n",
       "      <th>2</th>\n",
       "      <td>Year</td>\n",
       "      <td>Year the data was recorded.</td>\n",
       "    </tr>\n",
       "    <tr>\n",
       "      <th>3</th>\n",
       "      <td>Energy_consumption</td>\n",
       "      <td>Amount of Consumption for the specific energy source, measured (quad Btu).</td>\n",
       "    </tr>\n",
       "    <tr>\n",
       "      <th>4</th>\n",
       "      <td>Energy_production</td>\n",
       "      <td>Amount of Production for the specific energy source, measured (quad Btu).</td>\n",
       "    </tr>\n",
       "    <tr>\n",
       "      <th>5</th>\n",
       "      <td>GDP</td>\n",
       "      <td>Countries GDP at purchasing power parities, measured (Billion 2015$ PPP).</td>\n",
       "    </tr>\n",
       "    <tr>\n",
       "      <th>6</th>\n",
       "      <td>Population</td>\n",
       "      <td>Population of specific Country, measured (Mperson).</td>\n",
       "    </tr>\n",
       "    <tr>\n",
       "      <th>7</th>\n",
       "      <td>Energy_intensity_per_capita</td>\n",
       "      <td>Energy intensity is a measure of the energy inefficiency of an economy. It is calculated as units of energy per unit of capita (capita = individual person), measured (MMBtu/person).</td>\n",
       "    </tr>\n",
       "    <tr>\n",
       "      <th>8</th>\n",
       "      <td>Energy_intensity_by_GDP</td>\n",
       "      <td>Energy intensity is a measure of the energy inefficiency of an economy. It is calculated as units of energy per unit of GDP, measred (1000 Btu/2015$ GDP PPP)</td>\n",
       "    </tr>\n",
       "    <tr>\n",
       "      <th>9</th>\n",
       "      <td>CO2_emission</td>\n",
       "      <td>The amount of C02 emitted, measured (MMtonnes CO2).</td>\n",
       "    </tr>\n",
       "  </tbody>\n",
       "</table>\n",
       "</div>"
      ],
      "text/plain": [
       "                     Attribute  \\\n",
       "0                      Country   \n",
       "1                  Energy_type   \n",
       "2                         Year   \n",
       "3           Energy_consumption   \n",
       "4            Energy_production   \n",
       "5                          GDP   \n",
       "6                   Population   \n",
       "7  Energy_intensity_per_capita   \n",
       "8      Energy_intensity_by_GDP   \n",
       "9                 CO2_emission   \n",
       "\n",
       "                                                                                                                                                                                Describe  \n",
       "0                                                                                                                                                                   Country in question.  \n",
       "1                                                                                                                                                                 Type of energy source.  \n",
       "2                                                                                                                                                            Year the data was recorded.  \n",
       "3                                                                                                             Amount of Consumption for the specific energy source, measured (quad Btu).  \n",
       "4                                                                                                              Amount of Production for the specific energy source, measured (quad Btu).  \n",
       "5                                                                                                              Countries GDP at purchasing power parities, measured (Billion 2015$ PPP).  \n",
       "6                                                                                                                                    Population of specific Country, measured (Mperson).  \n",
       "7  Energy intensity is a measure of the energy inefficiency of an economy. It is calculated as units of energy per unit of capita (capita = individual person), measured (MMBtu/person).  \n",
       "8                          Energy intensity is a measure of the energy inefficiency of an economy. It is calculated as units of energy per unit of GDP, measred (1000 Btu/2015$ GDP PPP)  \n",
       "9                                                                                                                                    The amount of C02 emitted, measured (MMtonnes CO2).  "
      ]
     },
     "execution_count": 5,
     "metadata": {},
     "output_type": "execute_result"
    }
   ],
   "source": [
    "des_df = pd.read_csv('description.csv', encoding='latin-1')\n",
    "pd.set_option('display.max_colwidth', None)\n",
    "des_df"
   ]
  },
  {
   "attachments": {},
   "cell_type": "markdown",
   "metadata": {},
   "source": [
    "## 4.6. Kiểm tra kiểu dữ liệu của các cột và điều chỉnh cho phù hợp <a name = \"section4_6\"></a>\n",
    "[Quay về mục lục](#TOC)"
   ]
  },
  {
   "cell_type": "code",
   "execution_count": 6,
   "metadata": {},
   "outputs": [
    {
     "data": {
      "text/plain": [
       "Country                         object\n",
       "Energy_type                     object\n",
       "Year                             int64\n",
       "Energy_consumption             float64\n",
       "Energy_production              float64\n",
       "GDP                            float64\n",
       "Population                     float64\n",
       "Energy_intensity_per_capita    float64\n",
       "Energy_intensity_by_GDP        float64\n",
       "CO2_emission                   float64\n",
       "dtype: object"
      ]
     },
     "execution_count": 6,
     "metadata": {},
     "output_type": "execute_result"
    }
   ],
   "source": [
    "df.dtypes"
   ]
  },
  {
   "attachments": {},
   "cell_type": "markdown",
   "metadata": {},
   "source": [
    "## 4.7. Tìm sự phân phối của các cột dữ liệu kiểu số <a name = \"section4_7\"></a>\n",
    "[Quay về mục lục](#TOC)"
   ]
  },
  {
   "cell_type": "code",
   "execution_count": 7,
   "metadata": {},
   "outputs": [
    {
     "data": {
      "text/html": [
       "<div>\n",
       "<style scoped>\n",
       "    .dataframe tbody tr th:only-of-type {\n",
       "        vertical-align: middle;\n",
       "    }\n",
       "\n",
       "    .dataframe tbody tr th {\n",
       "        vertical-align: top;\n",
       "    }\n",
       "\n",
       "    .dataframe thead th {\n",
       "        text-align: right;\n",
       "    }\n",
       "</style>\n",
       "<table border=\"1\" class=\"dataframe\">\n",
       "  <thead>\n",
       "    <tr style=\"text-align: right;\">\n",
       "      <th></th>\n",
       "      <th>Year</th>\n",
       "      <th>Energy_consumption</th>\n",
       "      <th>Energy_production</th>\n",
       "      <th>GDP</th>\n",
       "      <th>Population</th>\n",
       "      <th>Energy_intensity_per_capita</th>\n",
       "      <th>Energy_intensity_by_GDP</th>\n",
       "      <th>CO2_emission</th>\n",
       "    </tr>\n",
       "  </thead>\n",
       "  <tbody>\n",
       "    <tr>\n",
       "      <th>mising percentage</th>\n",
       "      <td>0.0</td>\n",
       "      <td>20.117000</td>\n",
       "      <td>2.011400e+01</td>\n",
       "      <td>27.803000</td>\n",
       "      <td>1.700200e+01</td>\n",
       "      <td>9.167000</td>\n",
       "      <td>9.167000</td>\n",
       "      <td>6.901000</td>\n",
       "    </tr>\n",
       "    <tr>\n",
       "      <th>min</th>\n",
       "      <td>1980.0</td>\n",
       "      <td>-0.163438</td>\n",
       "      <td>-1.000000e-39</td>\n",
       "      <td>0.124958</td>\n",
       "      <td>1.147100e+01</td>\n",
       "      <td>0.000000</td>\n",
       "      <td>0.000000</td>\n",
       "      <td>-0.005130</td>\n",
       "    </tr>\n",
       "    <tr>\n",
       "      <th>max</th>\n",
       "      <td>2019.0</td>\n",
       "      <td>601.040490</td>\n",
       "      <td>6.115090e+02</td>\n",
       "      <td>127690.247059</td>\n",
       "      <td>7.714631e+06</td>\n",
       "      <td>1139.320598</td>\n",
       "      <td>166.913605</td>\n",
       "      <td>35584.933498</td>\n",
       "    </tr>\n",
       "  </tbody>\n",
       "</table>\n",
       "</div>"
      ],
      "text/plain": [
       "                     Year  Energy_consumption  Energy_production  \\\n",
       "mising percentage     0.0           20.117000       2.011400e+01   \n",
       "min                1980.0           -0.163438      -1.000000e-39   \n",
       "max                2019.0          601.040490       6.115090e+02   \n",
       "\n",
       "                             GDP    Population  Energy_intensity_per_capita  \\\n",
       "mising percentage      27.803000  1.700200e+01                     9.167000   \n",
       "min                     0.124958  1.147100e+01                     0.000000   \n",
       "max                127690.247059  7.714631e+06                  1139.320598   \n",
       "\n",
       "                   Energy_intensity_by_GDP  CO2_emission  \n",
       "mising percentage                 9.167000      6.901000  \n",
       "min                               0.000000     -0.005130  \n",
       "max                             166.913605  35584.933498  "
      ]
     },
     "execution_count": 7,
     "metadata": {},
     "output_type": "execute_result"
    }
   ],
   "source": [
    "num_df = df.select_dtypes(include='number')\n",
    "\n",
    "mising_percentage = np.round((num_df.isna().sum() / row) * 100, 3)      # tỉ lệ giá trị bị thiếu\n",
    "min_values = num_df.min()                                               # các giá trị nhỏ nhất\n",
    "max_values = num_df.max()                                               # các giá trị lớn nhất\n",
    "\n",
    "num_cols_distribution = pd.DataFrame(data = np.array((mising_percentage, min_values, max_values)),\n",
    "                                                      columns = num_df.columns,\n",
    "                                                      index = ['mising percentage', 'min', 'max'])\n",
    "num_cols_distribution"
   ]
  },
  {
   "attachments": {},
   "cell_type": "markdown",
   "metadata": {},
   "source": [
    "## 4.8. Tìm sự phân phối của các cột dữ liệu phân loại <a name = \"section4_8\"></a>\n",
    "[Quay về mục lục](#TOC)"
   ]
  },
  {
   "cell_type": "code",
   "execution_count": 8,
   "metadata": {},
   "outputs": [
    {
     "data": {
      "text/html": [
       "<div>\n",
       "<style scoped>\n",
       "    .dataframe tbody tr th:only-of-type {\n",
       "        vertical-align: middle;\n",
       "    }\n",
       "\n",
       "    .dataframe tbody tr th {\n",
       "        vertical-align: top;\n",
       "    }\n",
       "\n",
       "    .dataframe thead th {\n",
       "        text-align: right;\n",
       "    }\n",
       "</style>\n",
       "<table border=\"1\" class=\"dataframe\">\n",
       "  <thead>\n",
       "    <tr style=\"text-align: right;\">\n",
       "      <th></th>\n",
       "      <th>Country</th>\n",
       "      <th>Energy_type</th>\n",
       "    </tr>\n",
       "  </thead>\n",
       "  <tbody>\n",
       "    <tr>\n",
       "      <th>mising percentage</th>\n",
       "      <td>0.0</td>\n",
       "      <td>0.0</td>\n",
       "    </tr>\n",
       "    <tr>\n",
       "      <th>num_diff_vals</th>\n",
       "      <td>231</td>\n",
       "      <td>6</td>\n",
       "    </tr>\n",
       "    <tr>\n",
       "      <th>diff_vals</th>\n",
       "      <td>[World, Afghanistan, Albania, Algeria, America...</td>\n",
       "      <td>[all_energy_types, coal, natural_gas, petroleu...</td>\n",
       "    </tr>\n",
       "  </tbody>\n",
       "</table>\n",
       "</div>"
      ],
      "text/plain": [
       "                                                             Country  \\\n",
       "mising percentage                                                0.0   \n",
       "num_diff_vals                                                    231   \n",
       "diff_vals          [World, Afghanistan, Albania, Algeria, America...   \n",
       "\n",
       "                                                         Energy_type  \n",
       "mising percentage                                                0.0  \n",
       "num_diff_vals                                                      6  \n",
       "diff_vals          [all_energy_types, coal, natural_gas, petroleu...  "
      ]
     },
     "execution_count": 8,
     "metadata": {},
     "output_type": "execute_result"
    }
   ],
   "source": [
    "cat_df = df.select_dtypes(exclude = 'number')\n",
    "\n",
    "mising_percentage = (cat_df.isna().sum() / row) * 100           # tỉ lệ giá trị bị thiếu\n",
    "num_diff_vals = cat_df.apply(lambda col: col.nunique())         # số giá trị khác nhau\n",
    "diff_vals = cat_df.apply(lambda col: col.dropna().unique())     # các giá trị khác nhau\n",
    "\n",
    "cat_cols_distribution = pd.DataFrame(data = np.array((mising_percentage, num_diff_vals, diff_vals)),\n",
    "                                     columns = cat_df.columns,\n",
    "                                     index = ['mising percentage', 'num_diff_vals', 'diff_vals'])\n",
    "\n",
    "pd.reset_option(\"display.max_colwidth\")\n",
    "cat_cols_distribution"
   ]
  },
  {
   "attachments": {},
   "cell_type": "markdown",
   "metadata": {},
   "source": [
    "## 4.9. Xử lý các dòng bị thiếu dữ liệu <a name = \"section4_9\"></a>\n",
    "[Quay về mục lục](#TOC)"
   ]
  },
  {
   "cell_type": "code",
   "execution_count": 9,
   "metadata": {},
   "outputs": [],
   "source": [
    "df_test = df[df['Energy_type']!='nuclear']\n",
    "df_test.shape\n",
    "df_test = df_test[df_test['Energy_type']!='renewables_n_other']"
   ]
  },
  {
   "cell_type": "code",
   "execution_count": 10,
   "metadata": {},
   "outputs": [
    {
     "data": {
      "text/plain": [
       "(18480, 10)"
      ]
     },
     "execution_count": 10,
     "metadata": {},
     "output_type": "execute_result"
    }
   ],
   "source": [
    "df_test = df_test[df_test['Year']>=2000]\n",
    "df_test.shape"
   ]
  },
  {
   "cell_type": "code",
   "execution_count": 11,
   "metadata": {},
   "outputs": [
    {
     "data": {
      "text/plain": [
       "(16180, 10)"
      ]
     },
     "execution_count": 11,
     "metadata": {},
     "output_type": "execute_result"
    }
   ],
   "source": [
    "df_test = df_test[(~df_test['Population'].isna())]\n",
    "df_test.shape"
   ]
  },
  {
   "cell_type": "code",
   "execution_count": 12,
   "metadata": {},
   "outputs": [],
   "source": [
    "df_test.head()\n",
    "df_test['Energy_intensity_per_capita'] = df_test['Energy_consumption'] * 1e6 / df_test['Population']"
   ]
  },
  {
   "cell_type": "code",
   "execution_count": 13,
   "metadata": {},
   "outputs": [],
   "source": [
    "df_test['Energy_intensity_by_GDP'] = (df_test['Energy_consumption'] * 1e12) / (df_test['GDP'] * 1e9)"
   ]
  },
  {
   "cell_type": "code",
   "execution_count": 14,
   "metadata": {},
   "outputs": [
    {
     "data": {
      "text/html": [
       "<div>\n",
       "<style scoped>\n",
       "    .dataframe tbody tr th:only-of-type {\n",
       "        vertical-align: middle;\n",
       "    }\n",
       "\n",
       "    .dataframe tbody tr th {\n",
       "        vertical-align: top;\n",
       "    }\n",
       "\n",
       "    .dataframe thead th {\n",
       "        text-align: right;\n",
       "    }\n",
       "</style>\n",
       "<table border=\"1\" class=\"dataframe\">\n",
       "  <thead>\n",
       "    <tr style=\"text-align: right;\">\n",
       "      <th></th>\n",
       "      <th>Year</th>\n",
       "      <th>Energy_consumption</th>\n",
       "      <th>Energy_production</th>\n",
       "      <th>GDP</th>\n",
       "      <th>Population</th>\n",
       "      <th>Energy_intensity_per_capita</th>\n",
       "      <th>Energy_intensity_by_GDP</th>\n",
       "      <th>CO2_emission</th>\n",
       "    </tr>\n",
       "  </thead>\n",
       "  <tbody>\n",
       "    <tr>\n",
       "      <th>count</th>\n",
       "      <td>16180.000000</td>\n",
       "      <td>16179.000000</td>\n",
       "      <td>16180.000000</td>\n",
       "      <td>16144.000000</td>\n",
       "      <td>1.618000e+04</td>\n",
       "      <td>16179.000000</td>\n",
       "      <td>16144.000000</td>\n",
       "      <td>16122.000000</td>\n",
       "    </tr>\n",
       "    <tr>\n",
       "      <th>mean</th>\n",
       "      <td>2009.550803</td>\n",
       "      <td>2.344670</td>\n",
       "      <td>2.321508</td>\n",
       "      <td>937.185725</td>\n",
       "      <td>6.839348e+04</td>\n",
       "      <td>48.510583</td>\n",
       "      <td>2.360197</td>\n",
       "      <td>151.506647</td>\n",
       "    </tr>\n",
       "    <tr>\n",
       "      <th>std</th>\n",
       "      <td>5.758878</td>\n",
       "      <td>21.135766</td>\n",
       "      <td>20.821255</td>\n",
       "      <td>6943.805207</td>\n",
       "      <td>5.019312e+05</td>\n",
       "      <td>124.092152</td>\n",
       "      <td>5.306345</td>\n",
       "      <td>1341.635713</td>\n",
       "    </tr>\n",
       "    <tr>\n",
       "      <th>min</th>\n",
       "      <td>2000.000000</td>\n",
       "      <td>0.000000</td>\n",
       "      <td>0.000000</td>\n",
       "      <td>0.161470</td>\n",
       "      <td>2.031300e+01</td>\n",
       "      <td>0.000000</td>\n",
       "      <td>0.000000</td>\n",
       "      <td>-0.000138</td>\n",
       "    </tr>\n",
       "    <tr>\n",
       "      <th>25%</th>\n",
       "      <td>2005.000000</td>\n",
       "      <td>0.001464</td>\n",
       "      <td>0.000000</td>\n",
       "      <td>12.274250</td>\n",
       "      <td>1.350700e+03</td>\n",
       "      <td>0.190297</td>\n",
       "      <td>0.032094</td>\n",
       "      <td>0.100000</td>\n",
       "    </tr>\n",
       "    <tr>\n",
       "      <th>50%</th>\n",
       "      <td>2010.000000</td>\n",
       "      <td>0.048321</td>\n",
       "      <td>0.000748</td>\n",
       "      <td>51.092600</td>\n",
       "      <td>6.929270e+03</td>\n",
       "      <td>10.314378</td>\n",
       "      <td>1.285163</td>\n",
       "      <td>3.076548</td>\n",
       "    </tr>\n",
       "    <tr>\n",
       "      <th>75%</th>\n",
       "      <td>2015.000000</td>\n",
       "      <td>0.415920</td>\n",
       "      <td>0.208181</td>\n",
       "      <td>282.513525</td>\n",
       "      <td>2.347025e+04</td>\n",
       "      <td>45.661637</td>\n",
       "      <td>2.939554</td>\n",
       "      <td>27.814946</td>\n",
       "    </tr>\n",
       "    <tr>\n",
       "      <th>max</th>\n",
       "      <td>2019.000000</td>\n",
       "      <td>601.040490</td>\n",
       "      <td>611.508969</td>\n",
       "      <td>127690.247059</td>\n",
       "      <td>7.714631e+06</td>\n",
       "      <td>2102.355926</td>\n",
       "      <td>132.481515</td>\n",
       "      <td>35584.933498</td>\n",
       "    </tr>\n",
       "  </tbody>\n",
       "</table>\n",
       "</div>"
      ],
      "text/plain": [
       "               Year  Energy_consumption  Energy_production            GDP  \\\n",
       "count  16180.000000        16179.000000       16180.000000   16144.000000   \n",
       "mean    2009.550803            2.344670           2.321508     937.185725   \n",
       "std        5.758878           21.135766          20.821255    6943.805207   \n",
       "min     2000.000000            0.000000           0.000000       0.161470   \n",
       "25%     2005.000000            0.001464           0.000000      12.274250   \n",
       "50%     2010.000000            0.048321           0.000748      51.092600   \n",
       "75%     2015.000000            0.415920           0.208181     282.513525   \n",
       "max     2019.000000          601.040490         611.508969  127690.247059   \n",
       "\n",
       "         Population  Energy_intensity_per_capita  Energy_intensity_by_GDP  \\\n",
       "count  1.618000e+04                 16179.000000             16144.000000   \n",
       "mean   6.839348e+04                    48.510583                 2.360197   \n",
       "std    5.019312e+05                   124.092152                 5.306345   \n",
       "min    2.031300e+01                     0.000000                 0.000000   \n",
       "25%    1.350700e+03                     0.190297                 0.032094   \n",
       "50%    6.929270e+03                    10.314378                 1.285163   \n",
       "75%    2.347025e+04                    45.661637                 2.939554   \n",
       "max    7.714631e+06                  2102.355926               132.481515   \n",
       "\n",
       "       CO2_emission  \n",
       "count  16122.000000  \n",
       "mean     151.506647  \n",
       "std     1341.635713  \n",
       "min       -0.000138  \n",
       "25%        0.100000  \n",
       "50%        3.076548  \n",
       "75%       27.814946  \n",
       "max    35584.933498  "
      ]
     },
     "execution_count": 14,
     "metadata": {},
     "output_type": "execute_result"
    }
   ],
   "source": [
    "df_test.to_csv('Preprocess_Data.csv', index=None)\n",
    "df_test.describe()"
   ]
  },
  {
   "attachments": {},
   "cell_type": "markdown",
   "metadata": {},
   "source": [
    "# **5. Phân tích dữ liệu** <a name = \"section5\"></a>\n",
    "[Quay về mục lục](#TOC)"
   ]
  },
  {
   "attachments": {},
   "cell_type": "markdown",
   "metadata": {},
   "source": [
    "## **5.1 Phân tích hồi quy dựa trên OLS** <a name = \"section5_1\"></a>\n",
    "[Quay về mục lục](#TOC)"
   ]
  },
  {
   "cell_type": "code",
   "execution_count": 15,
   "metadata": {},
   "outputs": [
    {
     "data": {
      "text/html": [
       "<div>\n",
       "<style scoped>\n",
       "    .dataframe tbody tr th:only-of-type {\n",
       "        vertical-align: middle;\n",
       "    }\n",
       "\n",
       "    .dataframe tbody tr th {\n",
       "        vertical-align: top;\n",
       "    }\n",
       "\n",
       "    .dataframe thead th {\n",
       "        text-align: right;\n",
       "    }\n",
       "</style>\n",
       "<table border=\"1\" class=\"dataframe\">\n",
       "  <thead>\n",
       "    <tr style=\"text-align: right;\">\n",
       "      <th></th>\n",
       "      <th>Country</th>\n",
       "      <th>Energy_type</th>\n",
       "      <th>Year</th>\n",
       "      <th>Energy_consumption</th>\n",
       "      <th>Energy_production</th>\n",
       "      <th>GDP</th>\n",
       "      <th>Population</th>\n",
       "      <th>Energy_intensity_per_capita</th>\n",
       "      <th>Energy_intensity_by_GDP</th>\n",
       "      <th>CO2_emission</th>\n",
       "    </tr>\n",
       "  </thead>\n",
       "  <tbody>\n",
       "    <tr>\n",
       "      <th>4</th>\n",
       "      <td>Afghanistan</td>\n",
       "      <td>all_energy_types</td>\n",
       "      <td>2000</td>\n",
       "      <td>0.020178</td>\n",
       "      <td>0.011707</td>\n",
       "      <td>20.5799</td>\n",
       "      <td>20780.00</td>\n",
       "      <td>0.971033</td>\n",
       "      <td>0.980474</td>\n",
       "      <td>1.253149</td>\n",
       "    </tr>\n",
       "    <tr>\n",
       "      <th>5</th>\n",
       "      <td>Afghanistan</td>\n",
       "      <td>coal</td>\n",
       "      <td>2000</td>\n",
       "      <td>0.000021</td>\n",
       "      <td>0.000020</td>\n",
       "      <td>20.5799</td>\n",
       "      <td>20780.00</td>\n",
       "      <td>0.001003</td>\n",
       "      <td>0.001012</td>\n",
       "      <td>0.001944</td>\n",
       "    </tr>\n",
       "    <tr>\n",
       "      <th>6</th>\n",
       "      <td>Afghanistan</td>\n",
       "      <td>natural_gas</td>\n",
       "      <td>2000</td>\n",
       "      <td>0.008504</td>\n",
       "      <td>0.008504</td>\n",
       "      <td>20.5799</td>\n",
       "      <td>20780.00</td>\n",
       "      <td>0.409250</td>\n",
       "      <td>0.413229</td>\n",
       "      <td>0.451205</td>\n",
       "    </tr>\n",
       "    <tr>\n",
       "      <th>7</th>\n",
       "      <td>Afghanistan</td>\n",
       "      <td>petroleum_n_other_liquids</td>\n",
       "      <td>2000</td>\n",
       "      <td>0.008129</td>\n",
       "      <td>0.000000</td>\n",
       "      <td>20.5799</td>\n",
       "      <td>20780.00</td>\n",
       "      <td>0.391199</td>\n",
       "      <td>0.395002</td>\n",
       "      <td>0.800000</td>\n",
       "    </tr>\n",
       "    <tr>\n",
       "      <th>8</th>\n",
       "      <td>Albania</td>\n",
       "      <td>all_energy_types</td>\n",
       "      <td>2000</td>\n",
       "      <td>0.098037</td>\n",
       "      <td>0.060832</td>\n",
       "      <td>17.9665</td>\n",
       "      <td>3129.25</td>\n",
       "      <td>31.329346</td>\n",
       "      <td>5.456675</td>\n",
       "      <td>2.926687</td>\n",
       "    </tr>\n",
       "  </tbody>\n",
       "</table>\n",
       "</div>"
      ],
      "text/plain": [
       "       Country                Energy_type  Year  Energy_consumption  \\\n",
       "4  Afghanistan           all_energy_types  2000            0.020178   \n",
       "5  Afghanistan                       coal  2000            0.000021   \n",
       "6  Afghanistan                natural_gas  2000            0.008504   \n",
       "7  Afghanistan  petroleum_n_other_liquids  2000            0.008129   \n",
       "8      Albania           all_energy_types  2000            0.098037   \n",
       "\n",
       "   Energy_production      GDP  Population  Energy_intensity_per_capita  \\\n",
       "4           0.011707  20.5799    20780.00                     0.971033   \n",
       "5           0.000020  20.5799    20780.00                     0.001003   \n",
       "6           0.008504  20.5799    20780.00                     0.409250   \n",
       "7           0.000000  20.5799    20780.00                     0.391199   \n",
       "8           0.060832  17.9665     3129.25                    31.329346   \n",
       "\n",
       "   Energy_intensity_by_GDP  CO2_emission  \n",
       "4                 0.980474      1.253149  \n",
       "5                 0.001012      0.001944  \n",
       "6                 0.413229      0.451205  \n",
       "7                 0.395002      0.800000  \n",
       "8                 5.456675      2.926687  "
      ]
     },
     "execution_count": 15,
     "metadata": {},
     "output_type": "execute_result"
    }
   ],
   "source": [
    "df = pd.read_csv('Preprocess_Data.csv')\n",
    "df=df[~(df['Country']=='World')]\n",
    "df.head()"
   ]
  },
  {
   "cell_type": "code",
   "execution_count": 16,
   "metadata": {},
   "outputs": [
    {
     "data": {
      "text/plain": [
       "Country                         object\n",
       "Energy_type                     object\n",
       "Year                             int64\n",
       "Energy_consumption             float64\n",
       "Energy_production              float64\n",
       "GDP                            float64\n",
       "Population                     float64\n",
       "Energy_intensity_per_capita    float64\n",
       "Energy_intensity_by_GDP        float64\n",
       "CO2_emission                   float64\n",
       "dtype: object"
      ]
     },
     "execution_count": 16,
     "metadata": {},
     "output_type": "execute_result"
    }
   ],
   "source": [
    "df.dtypes"
   ]
  },
  {
   "attachments": {},
   "cell_type": "markdown",
   "metadata": {},
   "source": [
    "### Lấy các dữ liệu có energy_type là all_energy_types vì đây là dữ liệu chứa tổng các dữ liệu của các loại energy trong energy_type."
   ]
  },
  {
   "cell_type": "code",
   "execution_count": 17,
   "metadata": {},
   "outputs": [],
   "source": [
    "df=df[df['Energy_type']=='all_energy_types']"
   ]
  },
  {
   "cell_type": "code",
   "execution_count": 18,
   "metadata": {},
   "outputs": [
    {
     "data": {
      "text/plain": [
       "array(['Afghanistan', 'Albania', 'Algeria', 'American Samoa', 'Angola',\n",
       "       'Antigua and Barbuda', 'Argentina', 'Armenia', 'Aruba',\n",
       "       'Australia', 'Austria', 'Azerbaijan', 'Bahrain', 'Bangladesh',\n",
       "       'Barbados', 'Belarus', 'Belgium', 'Belize', 'Benin', 'Bermuda',\n",
       "       'Bhutan', 'Bolivia', 'Bosnia and Herzegovina', 'Botswana',\n",
       "       'Brazil', 'British Virgin Islands', 'Brunei', 'Bulgaria',\n",
       "       'Burkina Faso', 'Burma', 'Burundi', 'Cabo Verde', 'Cambodia',\n",
       "       'Cameroon', 'Canada', 'Cayman Islands', 'Central African Republic',\n",
       "       'Chad', 'Chile', 'China', 'Colombia', 'Comoros',\n",
       "       'Congo-Brazzaville', 'Congo-Kinshasa', 'Costa Rica', 'Croatia',\n",
       "       'Cuba', 'Cyprus', 'Czech Republic', 'Côte d’Ivoire', 'Denmark',\n",
       "       'Djibouti', 'Dominica', 'Dominican Republic', 'Ecuador', 'Egypt',\n",
       "       'El Salvador', 'Equatorial Guinea', 'Eritrea', 'Estonia',\n",
       "       'Eswatini', 'Ethiopia', 'Fiji', 'Finland', 'France', 'Gabon',\n",
       "       'Gambia, The', 'Georgia', 'Germany', 'Ghana', 'Greece',\n",
       "       'Greenland', 'Grenada', 'Guadeloupe', 'Guam', 'Guatemala',\n",
       "       'Guinea', 'Guinea-Bissau', 'Guyana', 'Haiti', 'Honduras',\n",
       "       'Hong Kong', 'Hungary', 'Iceland', 'India', 'Indonesia', 'Iran',\n",
       "       'Iraq', 'Ireland', 'Israel', 'Italy', 'Jamaica', 'Japan', 'Jordan',\n",
       "       'Kazakhstan', 'Kenya', 'Kiribati', 'Kuwait', 'Kyrgyzstan', 'Laos',\n",
       "       'Latvia', 'Lebanon', 'Lesotho', 'Liberia', 'Libya', 'Lithuania',\n",
       "       'Luxembourg', 'Macau', 'Madagascar', 'Malawi', 'Malaysia',\n",
       "       'Maldives', 'Mali', 'Malta', 'Martinique', 'Mauritania',\n",
       "       'Mauritius', 'Mexico', 'Moldova', 'Mongolia', 'Morocco',\n",
       "       'Mozambique', 'Namibia', 'Nepal', 'Netherlands',\n",
       "       'Netherlands Antilles', 'New Zealand', 'Nicaragua', 'Niger',\n",
       "       'Nigeria', 'North Korea', 'North Macedonia',\n",
       "       'Northern Mariana Islands', 'Norway', 'Oman', 'Pakistan',\n",
       "       'Palestinian Territories', 'Panama', 'Papua New Guinea',\n",
       "       'Paraguay', 'Peru', 'Philippines', 'Poland', 'Portugal',\n",
       "       'Puerto Rico', 'Qatar', 'Reunion', 'Romania', 'Russia', 'Rwanda',\n",
       "       'Saint Kitts and Nevis', 'Saint Lucia', 'Saint Vincent/Grenadines',\n",
       "       'Samoa', 'Sao Tome and Principe', 'Saudi Arabia', 'Senegal',\n",
       "       'Seychelles', 'Sierra Leone', 'Singapore', 'Slovakia', 'Slovenia',\n",
       "       'Solomon Islands', 'Somalia', 'South Africa', 'South Korea',\n",
       "       'Spain', 'Sri Lanka', 'Sudan', 'Suriname', 'Sweden', 'Switzerland',\n",
       "       'Syria', 'Taiwan', 'Tajikistan', 'Tanzania', 'Thailand',\n",
       "       'The Bahamas', 'Togo', 'Tonga', 'Trinidad and Tobago', 'Tunisia',\n",
       "       'Turkey', 'Turkmenistan', 'U.S. Virgin Islands', 'Uganda',\n",
       "       'Ukraine', 'United Arab Emirates', 'United Kingdom',\n",
       "       'United States', 'Uruguay', 'Uzbekistan', 'Vanuatu', 'Venezuela',\n",
       "       'Vietnam', 'Yemen', 'Zambia', 'Zimbabwe', 'Timor-Leste',\n",
       "       'Montenegro', 'Serbia', 'Kosovo', 'South Sudan'], dtype=object)"
      ]
     },
     "execution_count": 18,
     "metadata": {},
     "output_type": "execute_result"
    }
   ],
   "source": [
    "df['Country'].unique()"
   ]
  },
  {
   "attachments": {},
   "cell_type": "markdown",
   "metadata": {},
   "source": [
    "### Cập nhật lại dữ liệu của Energy_intensity_by_GDP"
   ]
  },
  {
   "cell_type": "code",
   "execution_count": 19,
   "metadata": {},
   "outputs": [],
   "source": [
    "df['Energy_intensity_by_GDP'] = df['Energy_consumption'] * 1000 / df['GDP']"
   ]
  },
  {
   "attachments": {},
   "cell_type": "markdown",
   "metadata": {},
   "source": [
    "### Xử lý các dữ liệu null không cần thiết"
   ]
  },
  {
   "cell_type": "code",
   "execution_count": 20,
   "metadata": {},
   "outputs": [
    {
     "data": {
      "text/plain": [
       "Country                        0\n",
       "Energy_type                    0\n",
       "Year                           0\n",
       "Energy_consumption             0\n",
       "Energy_production              0\n",
       "GDP                            9\n",
       "Population                     0\n",
       "Energy_intensity_per_capita    0\n",
       "Energy_intensity_by_GDP        9\n",
       "CO2_emission                   5\n",
       "dtype: int64"
      ]
     },
     "execution_count": 20,
     "metadata": {},
     "output_type": "execute_result"
    }
   ],
   "source": [
    "df.isna().sum()"
   ]
  },
  {
   "cell_type": "code",
   "execution_count": 21,
   "metadata": {},
   "outputs": [],
   "source": [
    "df=df[~df['CO2_emission'].isna()]\n",
    "df=df[~df['GDP'].isna()]"
   ]
  },
  {
   "attachments": {},
   "cell_type": "markdown",
   "metadata": {},
   "source": [
    "## Train Linear Regression và phân tích hồi quy qua OLS"
   ]
  },
  {
   "cell_type": "code",
   "execution_count": 22,
   "metadata": {},
   "outputs": [],
   "source": [
    "X_train=df[['Population','GDP','Energy_consumption','Energy_production']]\n",
    "y_train=df['CO2_emission']"
   ]
  },
  {
   "cell_type": "code",
   "execution_count": 23,
   "metadata": {},
   "outputs": [
    {
     "data": {
      "text/html": [
       "<table class=\"simpletable\">\n",
       "<caption>OLS Regression Results</caption>\n",
       "<tr>\n",
       "  <th>Dep. Variable:</th>      <td>CO2_emission</td>   <th>  R-squared:         </th> <td>   0.991</td> \n",
       "</tr>\n",
       "<tr>\n",
       "  <th>Model:</th>                   <td>OLS</td>       <th>  Adj. R-squared:    </th> <td>   0.991</td> \n",
       "</tr>\n",
       "<tr>\n",
       "  <th>Method:</th>             <td>Least Squares</td>  <th>  F-statistic:       </th> <td>1.058e+05</td>\n",
       "</tr>\n",
       "<tr>\n",
       "  <th>Date:</th>             <td>Fri, 19 May 2023</td> <th>  Prob (F-statistic):</th>  <td>  0.00</td>  \n",
       "</tr>\n",
       "<tr>\n",
       "  <th>Time:</th>                 <td>20:45:30</td>     <th>  Log-Likelihood:    </th> <td> -22703.</td> \n",
       "</tr>\n",
       "<tr>\n",
       "  <th>No. Observations:</th>      <td>  4011</td>      <th>  AIC:               </th> <td>4.542e+04</td>\n",
       "</tr>\n",
       "<tr>\n",
       "  <th>Df Residuals:</th>          <td>  4006</td>      <th>  BIC:               </th> <td>4.545e+04</td>\n",
       "</tr>\n",
       "<tr>\n",
       "  <th>Df Model:</th>              <td>     4</td>      <th>                     </th>     <td> </td>    \n",
       "</tr>\n",
       "<tr>\n",
       "  <th>Covariance Type:</th>      <td>nonrobust</td>    <th>                     </th>     <td> </td>    \n",
       "</tr>\n",
       "</table>\n",
       "<table class=\"simpletable\">\n",
       "<tr>\n",
       "           <td></td>             <th>coef</th>     <th>std err</th>      <th>t</th>      <th>P>|t|</th>  <th>[0.025</th>    <th>0.975]</th>  \n",
       "</tr>\n",
       "<tr>\n",
       "  <th>const</th>              <td>   -3.9678</td> <td>    1.177</td> <td>   -3.370</td> <td> 0.001</td> <td>   -6.276</td> <td>   -1.660</td>\n",
       "</tr>\n",
       "<tr>\n",
       "  <th>Population</th>         <td>    0.0005</td> <td> 1.15e-05</td> <td>   47.379</td> <td> 0.000</td> <td>    0.001</td> <td>    0.001</td>\n",
       "</tr>\n",
       "<tr>\n",
       "  <th>GDP</th>                <td>   -0.1476</td> <td>    0.003</td> <td>  -58.258</td> <td> 0.000</td> <td>   -0.153</td> <td>   -0.143</td>\n",
       "</tr>\n",
       "<tr>\n",
       "  <th>Energy_consumption</th> <td>   90.7715</td> <td>    0.563</td> <td>  161.168</td> <td> 0.000</td> <td>   89.667</td> <td>   91.876</td>\n",
       "</tr>\n",
       "<tr>\n",
       "  <th>Energy_production</th>  <td>   -9.3772</td> <td>    0.343</td> <td>  -27.337</td> <td> 0.000</td> <td>  -10.050</td> <td>   -8.705</td>\n",
       "</tr>\n",
       "</table>\n",
       "<table class=\"simpletable\">\n",
       "<tr>\n",
       "  <th>Omnibus:</th>       <td>2340.467</td> <th>  Durbin-Watson:     </th>  <td>   2.083</td> \n",
       "</tr>\n",
       "<tr>\n",
       "  <th>Prob(Omnibus):</th>  <td> 0.000</td>  <th>  Jarque-Bera (JB):  </th> <td>758407.905</td>\n",
       "</tr>\n",
       "<tr>\n",
       "  <th>Skew:</th>           <td> 1.562</td>  <th>  Prob(JB):          </th>  <td>    0.00</td> \n",
       "</tr>\n",
       "<tr>\n",
       "  <th>Kurtosis:</th>       <td>70.292</td>  <th>  Cond. No.          </th>  <td>1.49e+05</td> \n",
       "</tr>\n",
       "</table><br/><br/>Notes:<br/>[1] Standard Errors assume that the covariance matrix of the errors is correctly specified.<br/>[2] The condition number is large, 1.49e+05. This might indicate that there are<br/>strong multicollinearity or other numerical problems."
      ],
      "text/plain": [
       "<class 'statsmodels.iolib.summary.Summary'>\n",
       "\"\"\"\n",
       "                            OLS Regression Results                            \n",
       "==============================================================================\n",
       "Dep. Variable:           CO2_emission   R-squared:                       0.991\n",
       "Model:                            OLS   Adj. R-squared:                  0.991\n",
       "Method:                 Least Squares   F-statistic:                 1.058e+05\n",
       "Date:                Fri, 19 May 2023   Prob (F-statistic):               0.00\n",
       "Time:                        20:45:30   Log-Likelihood:                -22703.\n",
       "No. Observations:                4011   AIC:                         4.542e+04\n",
       "Df Residuals:                    4006   BIC:                         4.545e+04\n",
       "Df Model:                           4                                         \n",
       "Covariance Type:            nonrobust                                         \n",
       "======================================================================================\n",
       "                         coef    std err          t      P>|t|      [0.025      0.975]\n",
       "--------------------------------------------------------------------------------------\n",
       "const                 -3.9678      1.177     -3.370      0.001      -6.276      -1.660\n",
       "Population             0.0005   1.15e-05     47.379      0.000       0.001       0.001\n",
       "GDP                   -0.1476      0.003    -58.258      0.000      -0.153      -0.143\n",
       "Energy_consumption    90.7715      0.563    161.168      0.000      89.667      91.876\n",
       "Energy_production     -9.3772      0.343    -27.337      0.000     -10.050      -8.705\n",
       "==============================================================================\n",
       "Omnibus:                     2340.467   Durbin-Watson:                   2.083\n",
       "Prob(Omnibus):                  0.000   Jarque-Bera (JB):           758407.905\n",
       "Skew:                           1.562   Prob(JB):                         0.00\n",
       "Kurtosis:                      70.292   Cond. No.                     1.49e+05\n",
       "==============================================================================\n",
       "\n",
       "Notes:\n",
       "[1] Standard Errors assume that the covariance matrix of the errors is correctly specified.\n",
       "[2] The condition number is large, 1.49e+05. This might indicate that there are\n",
       "strong multicollinearity or other numerical problems.\n",
       "\"\"\""
      ]
     },
     "execution_count": 23,
     "metadata": {},
     "output_type": "execute_result"
    }
   ],
   "source": [
    "X2_all = sm.add_constant(X_train)\n",
    "est_all = sm.OLS(y_train, X2_all)\n",
    "est2_all = est_all.fit()\n",
    "est2_all.summary()"
   ]
  },
  {
   "attachments": {},
   "cell_type": "markdown",
   "metadata": {},
   "source": [
    "Ta có đường linear regression như sau:\n",
    "<b>`CO2_Emission` = 0.0005 * `Population` + (-0.1476) * `GDP` + 90.7715 * `Energy_consumption` + (-9.3772) * `Energy_production` - 3.9678 <b>"
   ]
  },
  {
   "attachments": {},
   "cell_type": "markdown",
   "metadata": {},
   "source": [
    "Nhận xét:\n",
    "- Prob (F-statistic) = 0.0000: Thể hiện mức ý nghĩa kiểm định F với giả thuyết H0: Các biến độc lập đồng thời bằng 0, ở đây ta bác bỏ H0 và kết luận mô hình có ý nghĩa thống kê\n",
    "- Adj R-squared = 0.991: Gọi là R bình phương hiệu chỉnh tức thể hiện các biến độc lập trong mô hình đang giải thích được khoảng 99.4% sự biến thiên của biến phụ thuộc serious_critical trong mô hình.\n",
    "- Coef. : là hệ số hồi quy của mỗi biến độc lập trong mô hình hồi quy (Còn gọi là Beta)\n",
    "- P > |t|  Hay p – value: thể hiện mức ý nghĩa của mỗi biến độc lập trong mô hình.\n",
    "\n",
    "Kết Luận:\n",
    "- Thuộc tính Population tương quan dương với CO2_emission ( Do hệ số hồi quy của Population là 0.0005 > 0)\n",
    "- Thuộc tính GDP tương quan âm với CO2_emission ( Do hệ số hồi quy của GPD là  -0.1476 < 0 )\n",
    "- Thuộc tính Energy_consumption tương quan dương với CO2_emission ( Do hệ số hồi quy của Energy_consumption là  90.7715 >0)\n",
    "- Thuộc tính Energy_production tương quan âm với CO2_emission( Do hệ số hồi quy của Energy_production là -9.3772 <0)\n",
    "- Cả 4 thuộc tính độc lập đều đạt ý nghĩa thống kê tại mức 1% (vì p-value = 0 < 5%)\n",
    "\n",
    "Diễn giải\n",
    "- Khi Population(dân số) tăng thêm 1 thì CO2_emission(lượng khí CO2) được thải ra sẽ tăng 0.0005 lần trong điều kiện các yếu tố khác không đổi.\n",
    "- Khi GDP tăng thêm 1 thì CO2_emission(lượng khí CO2) được thải ra sẽ giảm đi 0.1476 lần trong điều kiện các yếu tố khác không đổi.\n",
    "- Khi Energy_consumption(sản lượng tiêu thụ năng lượng) tăng thêm 1 thì CO2_emission(lượng khí CO2) được thải ra sẽ tăng thêm 90.7715 lần trong điều kiện các yếu tố khác không đổi.\n",
    "- Khi Energy_production( sản lượng năng lượng trong sản xuất) tăng thêm 1 thì CO2_emission(lượng khí CO2) được thải ra sẽ giảm đi 9.3772 lần trong điều kiện các yếu tố khác không đổi.\n",
    "\n",
    "=> Việc tiêu thụ năng lượng có sức ảnh hưởng lớn đến việc CO2 thải ra ngoài môi trường.\n"
   ]
  },
  {
   "attachments": {},
   "cell_type": "markdown",
   "metadata": {},
   "source": [
    "## **5.2 So sánh các Model để dự đoán CO2** <a name = \"section5.2\"></a>\n",
    "[Quay về mục lục](#TOC)"
   ]
  },
  {
   "cell_type": "code",
   "execution_count": 24,
   "metadata": {},
   "outputs": [],
   "source": [
    "df = pd.read_csv('Preprocess_Data.csv')\n",
    "df_ = df[df['Country']=='Vietnam']"
   ]
  },
  {
   "attachments": {},
   "cell_type": "markdown",
   "metadata": {},
   "source": [
    "#### Sử dụng ADF Test để kiểm tra stationary của dữ liệu\n",
    "- p-value càng nhỏ càng tốt"
   ]
  },
  {
   "cell_type": "code",
   "execution_count": 25,
   "metadata": {},
   "outputs": [
    {
     "name": "stdout",
     "output_type": "stream",
     "text": [
      "p-value: 0.999077328388778\n"
     ]
    }
   ],
   "source": [
    "adf_test = adfuller(df_['CO2_emission'])\n",
    "print(f'p-value: {adf_test[1]}')"
   ]
  },
  {
   "cell_type": "code",
   "execution_count": 26,
   "metadata": {},
   "outputs": [
    {
     "name": "stdout",
     "output_type": "stream",
     "text": [
      "p-value: 0.02186061542533219\n"
     ]
    }
   ],
   "source": [
    "adf_test = adfuller(np.log(df_['CO2_emission']))\n",
    "print(f'p-value: {adf_test[1]}')"
   ]
  },
  {
   "attachments": {},
   "cell_type": "markdown",
   "metadata": {},
   "source": [
    "-> Sau khi sử dụng scale dữ liệu bằng log thì p-value giảm đáng kể "
   ]
  },
  {
   "attachments": {},
   "cell_type": "markdown",
   "metadata": {},
   "source": [
    "### Sử dụng auto arima để tìm ra model phù hợp nhất và dự đoán CO2 Emission của Việt Nam vào 2019 "
   ]
  },
  {
   "cell_type": "code",
   "execution_count": 27,
   "metadata": {},
   "outputs": [],
   "source": [
    "auto_arima = pm.auto_arima(np.log(df_[df_['Year'] <= 2018]['CO2_emission']), stepwise=False, seasonal=False)"
   ]
  },
  {
   "cell_type": "code",
   "execution_count": 28,
   "metadata": {},
   "outputs": [
    {
     "data": {
      "text/html": [
       "<table class=\"simpletable\">\n",
       "<caption>SARIMAX Results</caption>\n",
       "<tr>\n",
       "  <th>Dep. Variable:</th>           <td>y</td>        <th>  No. Observations:  </th>   <td>76</td>   \n",
       "</tr>\n",
       "<tr>\n",
       "  <th>Model:</th>           <td>SARIMAX(3, 1, 1)</td> <th>  Log Likelihood     </th> <td>48.875</td> \n",
       "</tr>\n",
       "<tr>\n",
       "  <th>Date:</th>            <td>Fri, 19 May 2023</td> <th>  AIC                </th> <td>-85.750</td>\n",
       "</tr>\n",
       "<tr>\n",
       "  <th>Time:</th>                <td>20:45:34</td>     <th>  BIC                </th> <td>-71.845</td>\n",
       "</tr>\n",
       "<tr>\n",
       "  <th>Sample:</th>                  <td>0</td>        <th>  HQIC               </th> <td>-80.198</td>\n",
       "</tr>\n",
       "<tr>\n",
       "  <th></th>                       <td> - 76</td>      <th>                     </th>    <td> </td>   \n",
       "</tr>\n",
       "<tr>\n",
       "  <th>Covariance Type:</th>        <td>opg</td>       <th>                     </th>    <td> </td>   \n",
       "</tr>\n",
       "</table>\n",
       "<table class=\"simpletable\">\n",
       "<tr>\n",
       "      <td></td>         <th>coef</th>     <th>std err</th>      <th>z</th>      <th>P>|z|</th>  <th>[0.025</th>    <th>0.975]</th>  \n",
       "</tr>\n",
       "<tr>\n",
       "  <th>intercept</th> <td>    0.0989</td> <td>    0.022</td> <td>    4.501</td> <td> 0.000</td> <td>    0.056</td> <td>    0.142</td>\n",
       "</tr>\n",
       "<tr>\n",
       "  <th>ar.L1</th>     <td>   -0.9793</td> <td>    0.014</td> <td>  -68.527</td> <td> 0.000</td> <td>   -1.007</td> <td>   -0.951</td>\n",
       "</tr>\n",
       "<tr>\n",
       "  <th>ar.L2</th>     <td>   -0.9837</td> <td>    0.011</td> <td>  -89.924</td> <td> 0.000</td> <td>   -1.005</td> <td>   -0.962</td>\n",
       "</tr>\n",
       "<tr>\n",
       "  <th>ar.L3</th>     <td>   -0.9935</td> <td>    0.009</td> <td> -116.775</td> <td> 0.000</td> <td>   -1.010</td> <td>   -0.977</td>\n",
       "</tr>\n",
       "<tr>\n",
       "  <th>ma.L1</th>     <td>    0.1913</td> <td>    0.133</td> <td>    1.437</td> <td> 0.151</td> <td>   -0.070</td> <td>    0.452</td>\n",
       "</tr>\n",
       "<tr>\n",
       "  <th>sigma2</th>    <td>    0.0129</td> <td>    0.002</td> <td>    6.967</td> <td> 0.000</td> <td>    0.009</td> <td>    0.017</td>\n",
       "</tr>\n",
       "</table>\n",
       "<table class=\"simpletable\">\n",
       "<tr>\n",
       "  <th>Ljung-Box (L1) (Q):</th>     <td>0.03</td> <th>  Jarque-Bera (JB):  </th> <td>63.77</td>\n",
       "</tr>\n",
       "<tr>\n",
       "  <th>Prob(Q):</th>                <td>0.85</td> <th>  Prob(JB):          </th> <td>0.00</td> \n",
       "</tr>\n",
       "<tr>\n",
       "  <th>Heteroskedasticity (H):</th> <td>0.44</td> <th>  Skew:              </th> <td>1.45</td> \n",
       "</tr>\n",
       "<tr>\n",
       "  <th>Prob(H) (two-sided):</th>    <td>0.05</td> <th>  Kurtosis:          </th> <td>6.46</td> \n",
       "</tr>\n",
       "</table><br/><br/>Warnings:<br/>[1] Covariance matrix calculated using the outer product of gradients (complex-step)."
      ],
      "text/plain": [
       "<class 'statsmodels.iolib.summary.Summary'>\n",
       "\"\"\"\n",
       "                               SARIMAX Results                                \n",
       "==============================================================================\n",
       "Dep. Variable:                      y   No. Observations:                   76\n",
       "Model:               SARIMAX(3, 1, 1)   Log Likelihood                  48.875\n",
       "Date:                Fri, 19 May 2023   AIC                            -85.750\n",
       "Time:                        20:45:34   BIC                            -71.845\n",
       "Sample:                             0   HQIC                           -80.198\n",
       "                                 - 76                                         \n",
       "Covariance Type:                  opg                                         \n",
       "==============================================================================\n",
       "                 coef    std err          z      P>|z|      [0.025      0.975]\n",
       "------------------------------------------------------------------------------\n",
       "intercept      0.0989      0.022      4.501      0.000       0.056       0.142\n",
       "ar.L1         -0.9793      0.014    -68.527      0.000      -1.007      -0.951\n",
       "ar.L2         -0.9837      0.011    -89.924      0.000      -1.005      -0.962\n",
       "ar.L3         -0.9935      0.009   -116.775      0.000      -1.010      -0.977\n",
       "ma.L1          0.1913      0.133      1.437      0.151      -0.070       0.452\n",
       "sigma2         0.0129      0.002      6.967      0.000       0.009       0.017\n",
       "===================================================================================\n",
       "Ljung-Box (L1) (Q):                   0.03   Jarque-Bera (JB):                63.77\n",
       "Prob(Q):                              0.85   Prob(JB):                         0.00\n",
       "Heteroskedasticity (H):               0.44   Skew:                             1.45\n",
       "Prob(H) (two-sided):                  0.05   Kurtosis:                         6.46\n",
       "===================================================================================\n",
       "\n",
       "Warnings:\n",
       "[1] Covariance matrix calculated using the outer product of gradients (complex-step).\n",
       "\"\"\""
      ]
     },
     "execution_count": 28,
     "metadata": {},
     "output_type": "execute_result"
    }
   ],
   "source": [
    "auto_arima.summary()"
   ]
  },
  {
   "attachments": {},
   "cell_type": "markdown",
   "metadata": {},
   "source": [
    "### Sử dụng SARIMAX để dự đoán CO2 Emission của Việt Nam vào năm tiếp theo (2019)"
   ]
  },
  {
   "cell_type": "code",
   "execution_count": 29,
   "metadata": {},
   "outputs": [
    {
     "name": "stderr",
     "output_type": "stream",
     "text": [
      "c:\\Users\\hoang\\.conda\\envs\\min_ds-env\\lib\\site-packages\\statsmodels\\tsa\\base\\tsa_model.py:834: ValueWarning: No supported index is available. Prediction results will be given with an integer index beginning at `start`.\n",
      "  return get_prediction_index(\n"
     ]
    },
    {
     "data": {
      "text/plain": [
       "76    5.450214\n",
       "77    5.029628\n",
       "78    2.874073\n",
       "79    4.201271\n",
       "dtype: float64"
      ]
     },
     "execution_count": 29,
     "metadata": {},
     "output_type": "execute_result"
    }
   ],
   "source": [
    "forecast_test_auto = auto_arima.predict(n_periods=4)\n",
    "forecast_test_auto"
   ]
  },
  {
   "cell_type": "code",
   "execution_count": 30,
   "metadata": {},
   "outputs": [
    {
     "data": {
      "text/plain": [
       "76    232.807886\n",
       "77    152.876057\n",
       "78     17.708999\n",
       "79     66.771112\n",
       "dtype: float64"
      ]
     },
     "execution_count": 30,
     "metadata": {},
     "output_type": "execute_result"
    }
   ],
   "source": [
    "np.e**forecast_test_auto"
   ]
  },
  {
   "cell_type": "code",
   "execution_count": 31,
   "metadata": {},
   "outputs": [
    {
     "data": {
      "text/plain": [
       "232.80788606382515"
      ]
     },
     "execution_count": 31,
     "metadata": {},
     "output_type": "execute_result"
    }
   ],
   "source": [
    "sarimax_predict_all = np.e**forecast_test_auto[76]\n",
    "sarimax_predict_all"
   ]
  },
  {
   "attachments": {},
   "cell_type": "markdown",
   "metadata": {},
   "source": [
    "-> SARIMAX cho CO2 Emission cho all energy type = **232.81**"
   ]
  },
  {
   "attachments": {},
   "cell_type": "markdown",
   "metadata": {},
   "source": [
    "### Lấy dữ liệu đến năm 2018"
   ]
  },
  {
   "cell_type": "code",
   "execution_count": 32,
   "metadata": {},
   "outputs": [],
   "source": [
    "X = df_[df_['Energy_type']=='all_energy_types'].iloc[:-1,3:-1]\n",
    "y = df_[df_['Energy_type']=='all_energy_types'].iloc[:-1,-1]"
   ]
  },
  {
   "cell_type": "code",
   "execution_count": 33,
   "metadata": {},
   "outputs": [],
   "source": [
    "model = sm.OLS(y,X)\n",
    "ols = model.fit(add_constant=True)\n",
    "enet = model.fit_regularized(method='elastic_net')"
   ]
  },
  {
   "attachments": {},
   "cell_type": "markdown",
   "metadata": {},
   "source": [
    "### OLS"
   ]
  },
  {
   "cell_type": "code",
   "execution_count": 34,
   "metadata": {},
   "outputs": [
    {
     "name": "stderr",
     "output_type": "stream",
     "text": [
      "c:\\Users\\hoang\\.conda\\envs\\min_ds-env\\lib\\site-packages\\scipy\\stats\\_stats_py.py:1772: UserWarning: kurtosistest only valid for n>=20 ... continuing anyway, n=19\n",
      "  warnings.warn(\"kurtosistest only valid for n>=20 ... continuing \"\n"
     ]
    },
    {
     "data": {
      "text/html": [
       "<table class=\"simpletable\">\n",
       "<caption>OLS Regression Results</caption>\n",
       "<tr>\n",
       "  <th>Dep. Variable:</th>      <td>CO2_emission</td>   <th>  R-squared (uncentered):</th>      <td>   0.997</td>\n",
       "</tr>\n",
       "<tr>\n",
       "  <th>Model:</th>                   <td>OLS</td>       <th>  Adj. R-squared (uncentered):</th> <td>   0.996</td>\n",
       "</tr>\n",
       "<tr>\n",
       "  <th>Method:</th>             <td>Least Squares</td>  <th>  F-statistic:       </th>          <td>   803.4</td>\n",
       "</tr>\n",
       "<tr>\n",
       "  <th>Date:</th>             <td>Fri, 19 May 2023</td> <th>  Prob (F-statistic):</th>          <td>6.23e-16</td>\n",
       "</tr>\n",
       "<tr>\n",
       "  <th>Time:</th>                 <td>20:45:35</td>     <th>  Log-Likelihood:    </th>          <td> -62.458</td>\n",
       "</tr>\n",
       "<tr>\n",
       "  <th>No. Observations:</th>      <td>    19</td>      <th>  AIC:               </th>          <td>   136.9</td>\n",
       "</tr>\n",
       "<tr>\n",
       "  <th>Df Residuals:</th>          <td>    13</td>      <th>  BIC:               </th>          <td>   142.6</td>\n",
       "</tr>\n",
       "<tr>\n",
       "  <th>Df Model:</th>              <td>     6</td>      <th>                     </th>              <td> </td>   \n",
       "</tr>\n",
       "<tr>\n",
       "  <th>Covariance Type:</th>      <td>nonrobust</td>    <th>                     </th>              <td> </td>   \n",
       "</tr>\n",
       "</table>\n",
       "<table class=\"simpletable\">\n",
       "<tr>\n",
       "               <td></td>                  <th>coef</th>     <th>std err</th>      <th>t</th>      <th>P>|t|</th>  <th>[0.025</th>    <th>0.975]</th>  \n",
       "</tr>\n",
       "<tr>\n",
       "  <th>Energy_consumption</th>          <td>   94.1141</td> <td>  343.187</td> <td>    0.274</td> <td> 0.788</td> <td> -647.295</td> <td>  835.524</td>\n",
       "</tr>\n",
       "<tr>\n",
       "  <th>Energy_production</th>           <td>   27.8884</td> <td>   36.958</td> <td>    0.755</td> <td> 0.464</td> <td>  -51.955</td> <td>  107.732</td>\n",
       "</tr>\n",
       "<tr>\n",
       "  <th>GDP</th>                         <td>   -0.2632</td> <td>    0.415</td> <td>   -0.634</td> <td> 0.537</td> <td>   -1.160</td> <td>    0.634</td>\n",
       "</tr>\n",
       "<tr>\n",
       "  <th>Population</th>                  <td>    0.0012</td> <td>    0.002</td> <td>    0.695</td> <td> 0.499</td> <td>   -0.003</td> <td>    0.005</td>\n",
       "</tr>\n",
       "<tr>\n",
       "  <th>Energy_intensity_per_capita</th> <td>    2.1954</td> <td>   37.828</td> <td>    0.058</td> <td> 0.955</td> <td>  -79.528</td> <td>   83.919</td>\n",
       "</tr>\n",
       "<tr>\n",
       "  <th>Energy_intensity_by_GDP</th>     <td>  -41.5942</td> <td>   59.150</td> <td>   -0.703</td> <td> 0.494</td> <td> -169.379</td> <td>   86.191</td>\n",
       "</tr>\n",
       "</table>\n",
       "<table class=\"simpletable\">\n",
       "<tr>\n",
       "  <th>Omnibus:</th>       <td> 1.702</td> <th>  Durbin-Watson:     </th> <td>   1.999</td>\n",
       "</tr>\n",
       "<tr>\n",
       "  <th>Prob(Omnibus):</th> <td> 0.427</td> <th>  Jarque-Bera (JB):  </th> <td>   0.412</td>\n",
       "</tr>\n",
       "<tr>\n",
       "  <th>Skew:</th>          <td>-0.206</td> <th>  Prob(JB):          </th> <td>   0.814</td>\n",
       "</tr>\n",
       "<tr>\n",
       "  <th>Kurtosis:</th>      <td> 3.592</td> <th>  Cond. No.          </th> <td>1.69e+07</td>\n",
       "</tr>\n",
       "</table><br/><br/>Notes:<br/>[1] R² is computed without centering (uncentered) since the model does not contain a constant.<br/>[2] Standard Errors assume that the covariance matrix of the errors is correctly specified.<br/>[3] The condition number is large, 1.69e+07. This might indicate that there are<br/>strong multicollinearity or other numerical problems."
      ],
      "text/plain": [
       "<class 'statsmodels.iolib.summary.Summary'>\n",
       "\"\"\"\n",
       "                                 OLS Regression Results                                \n",
       "=======================================================================================\n",
       "Dep. Variable:           CO2_emission   R-squared (uncentered):                   0.997\n",
       "Model:                            OLS   Adj. R-squared (uncentered):              0.996\n",
       "Method:                 Least Squares   F-statistic:                              803.4\n",
       "Date:                Fri, 19 May 2023   Prob (F-statistic):                    6.23e-16\n",
       "Time:                        20:45:35   Log-Likelihood:                         -62.458\n",
       "No. Observations:                  19   AIC:                                      136.9\n",
       "Df Residuals:                      13   BIC:                                      142.6\n",
       "Df Model:                           6                                                  \n",
       "Covariance Type:            nonrobust                                                  \n",
       "===============================================================================================\n",
       "                                  coef    std err          t      P>|t|      [0.025      0.975]\n",
       "-----------------------------------------------------------------------------------------------\n",
       "Energy_consumption             94.1141    343.187      0.274      0.788    -647.295     835.524\n",
       "Energy_production              27.8884     36.958      0.755      0.464     -51.955     107.732\n",
       "GDP                            -0.2632      0.415     -0.634      0.537      -1.160       0.634\n",
       "Population                      0.0012      0.002      0.695      0.499      -0.003       0.005\n",
       "Energy_intensity_per_capita     2.1954     37.828      0.058      0.955     -79.528      83.919\n",
       "Energy_intensity_by_GDP       -41.5942     59.150     -0.703      0.494    -169.379      86.191\n",
       "==============================================================================\n",
       "Omnibus:                        1.702   Durbin-Watson:                   1.999\n",
       "Prob(Omnibus):                  0.427   Jarque-Bera (JB):                0.412\n",
       "Skew:                          -0.206   Prob(JB):                        0.814\n",
       "Kurtosis:                       3.592   Cond. No.                     1.69e+07\n",
       "==============================================================================\n",
       "\n",
       "Notes:\n",
       "[1] R² is computed without centering (uncentered) since the model does not contain a constant.\n",
       "[2] Standard Errors assume that the covariance matrix of the errors is correctly specified.\n",
       "[3] The condition number is large, 1.69e+07. This might indicate that there are\n",
       "strong multicollinearity or other numerical problems.\n",
       "\"\"\""
      ]
     },
     "execution_count": 34,
     "metadata": {},
     "output_type": "execute_result"
    }
   ],
   "source": [
    "ols.summary()"
   ]
  },
  {
   "cell_type": "code",
   "execution_count": 35,
   "metadata": {},
   "outputs": [
    {
     "data": {
      "text/plain": [
       "None    217.154185\n",
       "dtype: object"
      ]
     },
     "execution_count": 35,
     "metadata": {},
     "output_type": "execute_result"
    }
   ],
   "source": [
    "ols_predict = ols.predict(df_[df_['Energy_type']=='all_energy_types'].iloc[-2,3:-1])\n",
    "ols_predict"
   ]
  },
  {
   "attachments": {},
   "cell_type": "markdown",
   "metadata": {},
   "source": [
    "-> CO2 Emission của all energy type = **215.15** cho OLS"
   ]
  },
  {
   "attachments": {},
   "cell_type": "markdown",
   "metadata": {},
   "source": [
    "### Elastic Net "
   ]
  },
  {
   "cell_type": "code",
   "execution_count": 36,
   "metadata": {},
   "outputs": [
    {
     "data": {
      "text/plain": [
       "Energy_consumption             60.957879\n",
       "Energy_production               1.299808\n",
       "GDP                            -0.005807\n",
       "Population                     -0.000046\n",
       "Energy_intensity_per_capita     0.171773\n",
       "Energy_intensity_by_GDP        -0.830641\n",
       "dtype: float64"
      ]
     },
     "execution_count": 36,
     "metadata": {},
     "output_type": "execute_result"
    }
   ],
   "source": [
    "enet.params"
   ]
  },
  {
   "cell_type": "code",
   "execution_count": 37,
   "metadata": {},
   "outputs": [
    {
     "data": {
      "text/plain": [
       "None    218.664167\n",
       "dtype: object"
      ]
     },
     "execution_count": 37,
     "metadata": {},
     "output_type": "execute_result"
    }
   ],
   "source": [
    "enet_predict = enet.predict(df_[df_['Energy_type']=='all_energy_types'].iloc[-2,3:-1])\n",
    "enet_predict"
   ]
  },
  {
   "attachments": {},
   "cell_type": "markdown",
   "metadata": {},
   "source": [
    "-> CO2 Emission của all energy type = **218.66** cho Elastic Net"
   ]
  },
  {
   "attachments": {},
   "cell_type": "markdown",
   "metadata": {},
   "source": [
    "### So sánh 3 model"
   ]
  },
  {
   "cell_type": "code",
   "execution_count": 38,
   "metadata": {},
   "outputs": [],
   "source": [
    "dfplot = df_[['Energy_type', 'CO2_emission', 'Year']]\n",
    "sarimax_plot = pd.concat([dfplot[(dfplot['Year']==2018)&(dfplot['Energy_type']=='all_energy_types')],\\\n",
    "    pd.DataFrame({'Year':2019, 'Energy_type':'all_energy_types', 'CO2_emission':sarimax_predict_all}, index=[0])], ignore_index=True)\n",
    "\n",
    "ols_plot = pd.concat([dfplot[(dfplot['Year']==2018)&(dfplot['Energy_type']=='all_energy_types')],\\\n",
    "    pd.DataFrame({'Year':2019, 'Energy_type':'all_energy_types', 'CO2_emission':ols_predict.values[0]}, index=[0])], ignore_index=True)\n",
    "\n",
    "enet_plot = pd.concat([dfplot[(dfplot['Year']==2018)&(dfplot['Energy_type']=='all_energy_types')],\\\n",
    "    pd.DataFrame({'Year':2019, 'Energy_type':'all_energy_types', 'CO2_emission':enet_predict.values[0]}, index=[0])], ignore_index=True)"
   ]
  },
  {
   "cell_type": "code",
   "execution_count": 39,
   "metadata": {},
   "outputs": [
    {
     "data": {
      "text/html": [
       "<div>\n",
       "<style scoped>\n",
       "    .dataframe tbody tr th:only-of-type {\n",
       "        vertical-align: middle;\n",
       "    }\n",
       "\n",
       "    .dataframe tbody tr th {\n",
       "        vertical-align: top;\n",
       "    }\n",
       "\n",
       "    .dataframe thead th {\n",
       "        text-align: right;\n",
       "    }\n",
       "</style>\n",
       "<table border=\"1\" class=\"dataframe\">\n",
       "  <thead>\n",
       "    <tr style=\"text-align: right;\">\n",
       "      <th></th>\n",
       "      <th>Year</th>\n",
       "      <th>Energy_type</th>\n",
       "      <th>CO2_emission</th>\n",
       "    </tr>\n",
       "  </thead>\n",
       "  <tbody>\n",
       "    <tr>\n",
       "      <th>16164</th>\n",
       "      <td>2019</td>\n",
       "      <td>all_energy_types</td>\n",
       "      <td>241.806422</td>\n",
       "    </tr>\n",
       "    <tr>\n",
       "      <th>16165</th>\n",
       "      <td>2019</td>\n",
       "      <td>coal</td>\n",
       "      <td>159.987205</td>\n",
       "    </tr>\n",
       "    <tr>\n",
       "      <th>16166</th>\n",
       "      <td>2019</td>\n",
       "      <td>natural_gas</td>\n",
       "      <td>16.002558</td>\n",
       "    </tr>\n",
       "    <tr>\n",
       "      <th>16167</th>\n",
       "      <td>2019</td>\n",
       "      <td>petroleum_n_other_liquids</td>\n",
       "      <td>65.816659</td>\n",
       "    </tr>\n",
       "  </tbody>\n",
       "</table>\n",
       "</div>"
      ],
      "text/plain": [
       "       Year                Energy_type  CO2_emission\n",
       "16164  2019           all_energy_types    241.806422\n",
       "16165  2019                       coal    159.987205\n",
       "16166  2019                natural_gas     16.002558\n",
       "16167  2019  petroleum_n_other_liquids     65.816659"
      ]
     },
     "execution_count": 39,
     "metadata": {},
     "output_type": "execute_result"
    }
   ],
   "source": [
    "df_[df_['Year']==2019][['Year', 'Energy_type', 'CO2_emission']]"
   ]
  },
  {
   "attachments": {},
   "cell_type": "markdown",
   "metadata": {},
   "source": [
    "## Actual vs Predicted"
   ]
  },
  {
   "attachments": {},
   "cell_type": "markdown",
   "metadata": {},
   "source": [
    "### 2000 to 2020"
   ]
  },
  {
   "cell_type": "code",
   "execution_count": 40,
   "metadata": {},
   "outputs": [
    {
     "data": {
      "image/png": "[encoded data removed]",
      "text/plain": [
       "<Figure size 1000x500 with 1 Axes>"
      ]
     },
     "metadata": {},
     "output_type": "display_data"
    }
   ],
   "source": [
    "fig, ax = plt.subplots(figsize=(10, 5))\n",
    "\n",
    "dfplot[dfplot['Energy_type'] == 'all_energy_types'].plot(x='Year', y='CO2_emission', kind='line', ax=ax, color='blue', label='All Energy Types')\n",
    "ols_plot.plot(x='Year', y='CO2_emission', kind='line', ax=ax, color='green', label='OLS')\n",
    "enet_plot.plot(x='Year', y='CO2_emission', kind='line', ax=ax, color='black', label='Elastic Net')\n",
    "sarimax_plot.plot(x='Year', y='CO2_emission', kind='line', ax=ax, color='red', label='SARIMAX')\n",
    "\n",
    "plt.xticks(np.arange(2000, 2020, 1), rotation=45)\n",
    "plt.legend()\n",
    "plt.show()"
   ]
  },
  {
   "attachments": {},
   "cell_type": "markdown",
   "metadata": {},
   "source": [
    "## 2018 to 2019"
   ]
  },
  {
   "cell_type": "code",
   "execution_count": 41,
   "metadata": {},
   "outputs": [
    {
     "data": {
      "image/png": "[encoded data removed]",
      "text/plain": [
       "<Figure size 1000x500 with 1 Axes>"
      ]
     },
     "metadata": {},
     "output_type": "display_data"
    }
   ],
   "source": [
    "fig, ax = plt.subplots(figsize=(10, 5))\n",
    "\n",
    "dfplot[dfplot['Energy_type'] == 'all_energy_types'].plot(x='Year', y='CO2_emission', kind='line', ax=ax, color='blue', label='All Energy Types')\n",
    "sarimax_plot.plot(x='Year', y='CO2_emission', kind='line', ax=ax, color='red', label='SARIMAX')\n",
    "enet_plot.plot(x='Year', y='CO2_emission', kind='line', ax=ax, color='black', label='Elastic Net')\n",
    "ols_plot.plot(x='Year', y='CO2_emission', kind='line', ax=ax, color='green', label='OLS')\n",
    "\n",
    "plt.xlim(2018, 2019)\n",
    "plt.xticks(np.arange(2018, 2020, 1))\n",
    "plt.show()"
   ]
  },
  {
   "attachments": {},
   "cell_type": "markdown",
   "metadata": {},
   "source": [
    "- So sánh kết quả của 3 mô hình\n",
    "\n",
    "- Dữ liệu thực tế của năm 2019 là **241.81**\n",
    "\n",
    "| Model | CO2 Emission | Error |\n",
    "| -- | -- | -- |\n",
    "| SARIMAX | 232.81 | 9 |\n",
    "| OLS | 215.15 | 26.66 |\n",
    "| Elastic Net | 218.66 | 23.15 |\n",
    "\n",
    "-> SARIMAX cho kết quả tốt nhất"
   ]
  },
  {
   "attachments": {},
   "cell_type": "markdown",
   "metadata": {},
   "source": [
    "# **6. Đôi điều về đồ án** <a name = \"section6\"></a>\n",
    "[Quay về mục lục](#TOC)"
   ]
  },
  {
   "attachments": {},
   "cell_type": "markdown",
   "metadata": {},
   "source": [
    "Mỗi thành viên gặp khó khăn gì?\n",
    "- Tập dữ liệu bị bias khá nhiều, cần tốn khá nhiều thời gian để xử lý hợp lý.\n",
    "\n",
    "Mỗi thành viên học được những gì?\n",
    "- Biết cách phân bổ thời gian hợp lí.\n",
    "\n",
    "Nếu có thêm thời gian, sẽ làm những gì?\n",
    "- Xem lại những câu hỏi cũ, có thể là cụ thể hóa những câu hỏi đó để có thể tìm được đáp án gần chính xác nhất.\n",
    "- Có thể áp dụng các mô hình học máy khác để tìm ra được mô hình tô nhất, từ đó có thể phục vụ cho các câu hỏi liên quan."
   ]
  },
  {
   "attachments": {},
   "cell_type": "markdown",
   "metadata": {},
   "source": [
    "# **6. Nguồn tham khảo** <a name = \"section6\"></a>\n",
    "[Quay về mục lục](#TOC)"
   ]
  },
  {
   "attachments": {},
   "cell_type": "markdown",
   "metadata": {},
   "source": [
    "1. Sách PHÂN TÍCH DỮ LIỆU - Data Analysis - Bùi Tiến Lên\n",
    "2. https://www.kaggle.com/datasets/lobosi/c02-emission-by-countrys-grouth-and-population\n",
    "3. https://phamdinhkhanh.github.io/2019/12/12/ARIMAmodel.html\n",
    "4. https://www.machinelearningplus.com/time-series/augmented-dickey-fuller-test/\n",
    "5. https://towardsdatascience.com/time-series-forecasting-with-arima-sarima-and-sarimax-ee61099e78f6\n",
    "6. https://public.tableau.com/app/profile/samodrole"
   ]
  }
 ],
 "metadata": {
  "kernelspec": {
   "display_name": "Python 3",
   "language": "python",
   "name": "python3"
  },
  "language_info": {
   "codemirror_mode": {
    "name": "ipython",
    "version": 3
   },
   "file_extension": ".py",
   "mimetype": "text/x-python",
   "name": "python",
   "nbconvert_exporter": "python",
   "pygments_lexer": "ipython3",
   "version": "3.8.8"
  },
  "orig_nbformat": 4
 },
 "nbformat": 4,
 "nbformat_minor": 2
}
