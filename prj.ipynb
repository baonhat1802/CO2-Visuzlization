{
 "cells": [
  {
   "attachments": {},
   "cell_type": "markdown",
   "metadata": {},
   "source": [
    "<center>\n",
    "\n",
    "# **PROJECT**\n",
    "\n",
    "# **CO2 EMISSION**\n",
    "\n",
    "\n",
    "\n",
    "</center>"
   ]
  },
  {
   "attachments": {},
   "cell_type": "markdown",
   "metadata": {},
   "source": [
    "<center>\n",
    "\n",
    "# **Mục lục** <a name = \"TOC\"></a>\n",
    "\n",
    "</center>\n",
    "\n",
    "- [1. Giới thiệu thành viên](#section1)\n",
    "- [2. Các thư viện sử dụng](#section2)\n",
    "- [3. Mô tả dữ liệu](#section3)\n",
    "- [4. Xử lý dữ liệu](#section4)\n",
    "    - [4.1. Đọc dữ liệu vào Dataframe](#section4_1)\n",
    "    - [4.2. Số dòng và số cột của tập dữ liệu](#section4_2)\n",
    "    - [4.3. Ý nghĩa của mỗi dòng](#section4_3)\n",
    "    - [4.4. Kiểm tra các dòng bị trùng lắp](#section4_4)\n",
    "    - [4.5. Ý nghĩa của mỗi cột](#section4_5)\n",
    "    - [4.6. Kiểm tra kiểu dữ liệu của các cột và điều chỉnh cho phù hợp](#section4_6)\n",
    "    - [4.7. Tìm sự phân phối của các cột dữ liệu kiểu số](#section4_7)\n",
    "    - [4.8. Tìm sự phân phối của các cột dữ liệu phân loại](#section4_8)\n",
    "    - [4.9. Xử lý các dòng bị thiếu dữ liệu](#section4_9)\n",
    "- [5. Phân tích dữ liệu](#section5)\n",
    "    - [5.1. Vẽ biểu đồ heatmap sau khi đã xử lí để quan sát sự tương quan giữa các cột còn lại với nhau](#section5_1)\n",
    "    - [5.2. Vẽ biểu đồ Radarchart thể hiện mối tương quan của tổng số ca, ca tử vong, ca hồi phục, ca điều trị, số ca tử vong / tổng ca](#section5_2)\n",
    "    - [5.3. Vẽ biểu đồ Scatterplot thể hiện mối tương quan của tổng số ca nhiễm bệnh và tổng số ca xét nghiệm](#section5_3)\n",
    "    - [5.4. Vẽ biểu đồ Scatterplot thể hiện mối tương quan của tổng số ca và tổng số dân](#section5_4)\n",
    "    - [5.5. Vẽ biểu đồ Scatterplot để xem có mối tương quan của số ca hồi phục và số ca điều trị không](#section5_5)\n",
    "    - [5.6. Vẽ biểu đồ Barchart để thể hiện mối quan hệ giữa tử vong, ca hồi phục, ca điều trị các khu vực](#section5_6)\n",
    "    - [5.7. Vẽ biểu đồ Histogram để thể hiện sự phân bố của các quốc gia về tổng ca và số ca tử vong bằng histogram](#section5_7)\n",
    "    - [5.8. Vẽ biểu đồ Donutchart để thể hiện mối quan hệ giữa tổng số ca, ca tử vong, ca hồi phục, ca điều trị giữa các khu vực.](#section5_8)\n",
    "    - [5.9. Vẽ biểu đồ Boxplot thể hiện sự chênh lệch ca nhiễm khu vực, sau đó dùng kiểm định thống kê để xem sự chênh lệch ca nhiễm khu vực](#section5_9)\n",
    "- [6. Đôi điều về đồ án](#section6)\n",
    "- [7. Các nguồn tham khảo](#section7)"
   ]
  },
  {
   "attachments": {},
   "cell_type": "markdown",
   "metadata": {},
   "source": [
    "# **1. Giới thiệu thành viên** <a name = \"section1\"></a>\n",
    "[Quay về mục lục](#TOC)"
   ]
  },
  {
   "attachments": {},
   "cell_type": "markdown",
   "metadata": {},
   "source": [
    "| STT | MSSV | HỌ VÀ TÊN | CÔNG VIỆC|\n",
    "|:----:|:---:|:------:|:------:|\n",
    "| 1 | 20127023 | Trần Minh Hiệp | Thu thập dữ liệu, lựa chọn, phân tích dữ liệu, vẽ biểu đồ Heatmap (thực hiện 5.1). |\n",
    "| 2 | 20127058 | Lê Hồ Bảo Nhật | Thu thập dữ liệu, lựa chọn, phân tích dữ liệu, vẽ biểu đồ Radarchart, Scatterplot (thực hiện 5.2, 5.5). |\n",
    "| 3 | 20127088 | Nguyễn Thiện Hoàng Trí | Lựa chọn, phân tích dữ liệu, vẽ biểu đồ Scatterplot (thực hiện 5.3, 5.4). |\n",
    "| 4 | 20127288 | Nguyễn Nam Phương | Lựa chọn, phân tích dữ liệu, vẽ biểu đồ Donutchart, Histogram, Barchart (thực hiện 5.6, 5.7, 5.8).|\n",
    "| 5 | 20127603 | Ninh Trần Hoàng Quân | Lựa chọn, phân tích dữ liệu, vẽ biểu đồ Boxplot và kiểm định thống kê (thực hiện 5.9). |"
   ]
  },
  {
   "attachments": {},
   "cell_type": "markdown",
   "metadata": {},
   "source": [
    "---"
   ]
  },
  {
   "attachments": {},
   "cell_type": "markdown",
   "metadata": {},
   "source": [
    "# **2. Các thư viện sử dụng** <a name = \"section2\"></a>\n",
    "[Quay về mục lục](#TOC)\n"
   ]
  },
  {
   "cell_type": "code",
   "execution_count": 1,
   "metadata": {},
   "outputs": [],
   "source": [
    "import pandas as pd\n",
    "import numpy as np "
   ]
  },
  {
   "attachments": {},
   "cell_type": "markdown",
   "metadata": {},
   "source": [
    "---"
   ]
  },
  {
   "attachments": {},
   "cell_type": "markdown",
   "metadata": {},
   "source": [
    "# **3. Mô tả dữ liệu** <a name = \"section3\"></a>\n",
    "[Quay về mục lục](#TOC)"
   ]
  },
  {
   "attachments": {},
   "cell_type": "markdown",
   "metadata": {},
   "source": [
    "Thế giới đang trở nên hiện đại hóa hơn theo từng năm, và cùng với đó là tình trạng ô nhiễm hơn.\n",
    "\n",
    "Dữ liệu này được lấy từ Cơ quan Quản lý Năng lượng Hoa Kỳ và được kết hợp với nhau để phân tích dễ dàng hơn. Đây là tập hợp một số yếu tố lớn ảnh hưởng đến Khí thải C02, với mọi thứ từ Sản xuất và Tiêu thụ của từng loại nguồn năng lượng chính cho mỗi quốc gia và xếp hạng ô nhiễm của quốc gia đó mỗi năm. Nó cũng bao gồm GDP của mỗi quốc gia, Dân số, Cường độ năng lượng trên đầu người (người) và Cường độ năng lượng trên GDP (GDP trên mỗi người). Tất cả dữ liệu kéo dài suốt từ những năm 1980 đến 2020."
   ]
  },
  {
   "attachments": {},
   "cell_type": "markdown",
   "metadata": {},
   "source": [
    "# **4. Xử lý dữ liệu** <a name = \"section4\"></a>\n",
    "[Quay về mục lục](#TOC)"
   ]
  },
  {
   "attachments": {},
   "cell_type": "markdown",
   "metadata": {},
   "source": [
    "## 4.1. Đọc dữ liệu vào Dataframe <a name = \"section4_1\"></a>\n",
    "[Quay về mục lục](#TOC)"
   ]
  },
  {
   "cell_type": "code",
   "execution_count": 2,
   "metadata": {},
   "outputs": [],
   "source": [
    "df = pd.read_csv('energy.csv')\n",
    "df.drop(columns = df.columns[0], axis = 1,inplace = True )"
   ]
  },
  {
   "attachments": {},
   "cell_type": "markdown",
   "metadata": {},
   "source": [
    "## 4.2. Số dòng và số cột của tập dữ liệu <a name = \"section4_2\"></a>\n",
    "[Quay về mục lục](#TOC)"
   ]
  },
  {
   "cell_type": "code",
   "execution_count": 3,
   "metadata": {},
   "outputs": [
    {
     "name": "stdout",
     "output_type": "stream",
     "text": [
      "Số dòng: 55440\n",
      "Số cột 10\n"
     ]
    },
    {
     "data": {
      "text/html": [
       "<div>\n",
       "<style scoped>\n",
       "    .dataframe tbody tr th:only-of-type {\n",
       "        vertical-align: middle;\n",
       "    }\n",
       "\n",
       "    .dataframe tbody tr th {\n",
       "        vertical-align: top;\n",
       "    }\n",
       "\n",
       "    .dataframe thead th {\n",
       "        text-align: right;\n",
       "    }\n",
       "</style>\n",
       "<table border=\"1\" class=\"dataframe\">\n",
       "  <thead>\n",
       "    <tr style=\"text-align: right;\">\n",
       "      <th></th>\n",
       "      <th>Country</th>\n",
       "      <th>Energy_type</th>\n",
       "      <th>Year</th>\n",
       "      <th>Energy_consumption</th>\n",
       "      <th>Energy_production</th>\n",
       "      <th>GDP</th>\n",
       "      <th>Population</th>\n",
       "      <th>Energy_intensity_per_capita</th>\n",
       "      <th>Energy_intensity_by_GDP</th>\n",
       "      <th>CO2_emission</th>\n",
       "    </tr>\n",
       "  </thead>\n",
       "  <tbody>\n",
       "    <tr>\n",
       "      <th>0</th>\n",
       "      <td>World</td>\n",
       "      <td>all_energy_types</td>\n",
       "      <td>1980</td>\n",
       "      <td>292.899790</td>\n",
       "      <td>296.337228</td>\n",
       "      <td>27770.910281</td>\n",
       "      <td>4.298127e+06</td>\n",
       "      <td>68.145921</td>\n",
       "      <td>10.547</td>\n",
       "      <td>4946.627130</td>\n",
       "    </tr>\n",
       "    <tr>\n",
       "      <th>1</th>\n",
       "      <td>World</td>\n",
       "      <td>coal</td>\n",
       "      <td>1980</td>\n",
       "      <td>78.656134</td>\n",
       "      <td>80.114194</td>\n",
       "      <td>27770.910281</td>\n",
       "      <td>4.298127e+06</td>\n",
       "      <td>68.145921</td>\n",
       "      <td>10.547</td>\n",
       "      <td>1409.790188</td>\n",
       "    </tr>\n",
       "    <tr>\n",
       "      <th>2</th>\n",
       "      <td>World</td>\n",
       "      <td>natural_gas</td>\n",
       "      <td>1980</td>\n",
       "      <td>53.865223</td>\n",
       "      <td>54.761046</td>\n",
       "      <td>27770.910281</td>\n",
       "      <td>4.298127e+06</td>\n",
       "      <td>68.145921</td>\n",
       "      <td>10.547</td>\n",
       "      <td>1081.593377</td>\n",
       "    </tr>\n",
       "    <tr>\n",
       "      <th>3</th>\n",
       "      <td>World</td>\n",
       "      <td>petroleum_n_other_liquids</td>\n",
       "      <td>1980</td>\n",
       "      <td>132.064019</td>\n",
       "      <td>133.111109</td>\n",
       "      <td>27770.910281</td>\n",
       "      <td>4.298127e+06</td>\n",
       "      <td>68.145921</td>\n",
       "      <td>10.547</td>\n",
       "      <td>2455.243565</td>\n",
       "    </tr>\n",
       "    <tr>\n",
       "      <th>4</th>\n",
       "      <td>World</td>\n",
       "      <td>nuclear</td>\n",
       "      <td>1980</td>\n",
       "      <td>7.575700</td>\n",
       "      <td>7.575700</td>\n",
       "      <td>27770.910281</td>\n",
       "      <td>4.298127e+06</td>\n",
       "      <td>68.145921</td>\n",
       "      <td>10.547</td>\n",
       "      <td>0.000000</td>\n",
       "    </tr>\n",
       "  </tbody>\n",
       "</table>\n",
       "</div>"
      ],
      "text/plain": [
       "  Country                Energy_type  Year  Energy_consumption  \\\n",
       "0   World           all_energy_types  1980          292.899790   \n",
       "1   World                       coal  1980           78.656134   \n",
       "2   World                natural_gas  1980           53.865223   \n",
       "3   World  petroleum_n_other_liquids  1980          132.064019   \n",
       "4   World                    nuclear  1980            7.575700   \n",
       "\n",
       "   Energy_production           GDP    Population  Energy_intensity_per_capita  \\\n",
       "0         296.337228  27770.910281  4.298127e+06                    68.145921   \n",
       "1          80.114194  27770.910281  4.298127e+06                    68.145921   \n",
       "2          54.761046  27770.910281  4.298127e+06                    68.145921   \n",
       "3         133.111109  27770.910281  4.298127e+06                    68.145921   \n",
       "4           7.575700  27770.910281  4.298127e+06                    68.145921   \n",
       "\n",
       "   Energy_intensity_by_GDP  CO2_emission  \n",
       "0                   10.547   4946.627130  \n",
       "1                   10.547   1409.790188  \n",
       "2                   10.547   1081.593377  \n",
       "3                   10.547   2455.243565  \n",
       "4                   10.547      0.000000  "
      ]
     },
     "execution_count": 3,
     "metadata": {},
     "output_type": "execute_result"
    }
   ],
   "source": [
    "row = df.shape[0]\n",
    "col = df.shape[1]\n",
    "print('Số dòng:', row)\n",
    "print('Số cột', col)\n",
    "df.head()"
   ]
  },
  {
   "attachments": {},
   "cell_type": "markdown",
   "metadata": {},
   "source": [
    "## 4.3. Ý nghĩa của mỗi dòng <a name = \"section4_3\"></a>\n",
    "[Quay về mục lục](#TOC)"
   ]
  },
  {
   "attachments": {},
   "cell_type": "markdown",
   "metadata": {},
   "source": [
    "Mỗi dòng là một năm thông tin cơ bản của một nước. Ngoài ra còn có sự sử dụng CO2 hiệu quả, sản xuất và tiêu thụ của từng loại nguồn năng lượng chính cho mỗi quốc gia đó."
   ]
  },
  {
   "attachments": {},
   "cell_type": "markdown",
   "metadata": {},
   "source": [
    "## 4.4. Kiểm tra các dòng bị trùng lắp <a name = \"section4_4\"></a>\n",
    "[Quay về mục lục](#TOC)"
   ]
  },
  {
   "cell_type": "code",
   "execution_count": 4,
   "metadata": {},
   "outputs": [
    {
     "data": {
      "text/html": [
       "<div>\n",
       "<style scoped>\n",
       "    .dataframe tbody tr th:only-of-type {\n",
       "        vertical-align: middle;\n",
       "    }\n",
       "\n",
       "    .dataframe tbody tr th {\n",
       "        vertical-align: top;\n",
       "    }\n",
       "\n",
       "    .dataframe thead th {\n",
       "        text-align: right;\n",
       "    }\n",
       "</style>\n",
       "<table border=\"1\" class=\"dataframe\">\n",
       "  <thead>\n",
       "    <tr style=\"text-align: right;\">\n",
       "      <th></th>\n",
       "      <th>Country</th>\n",
       "      <th>Energy_type</th>\n",
       "      <th>Year</th>\n",
       "      <th>Energy_consumption</th>\n",
       "      <th>Energy_production</th>\n",
       "      <th>GDP</th>\n",
       "      <th>Population</th>\n",
       "      <th>Energy_intensity_per_capita</th>\n",
       "      <th>Energy_intensity_by_GDP</th>\n",
       "      <th>CO2_emission</th>\n",
       "    </tr>\n",
       "  </thead>\n",
       "  <tbody>\n",
       "  </tbody>\n",
       "</table>\n",
       "</div>"
      ],
      "text/plain": [
       "Empty DataFrame\n",
       "Columns: [Country, Energy_type, Year, Energy_consumption, Energy_production, GDP, Population, Energy_intensity_per_capita, Energy_intensity_by_GDP, CO2_emission]\n",
       "Index: []"
      ]
     },
     "execution_count": 4,
     "metadata": {},
     "output_type": "execute_result"
    }
   ],
   "source": [
    "duplicated = df.duplicated()\n",
    "pd.DataFrame(df[duplicated==True])"
   ]
  },
  {
   "attachments": {},
   "cell_type": "markdown",
   "metadata": {},
   "source": [
    "## 4.5. Ý nghĩa của mỗi cột <a name = \"section4_5\"></a>\n",
    "[Quay về mục lục](#TOC)"
   ]
  },
  {
   "cell_type": "code",
   "execution_count": 5,
   "metadata": {},
   "outputs": [
    {
     "data": {
      "text/html": [
       "<div>\n",
       "<style scoped>\n",
       "    .dataframe tbody tr th:only-of-type {\n",
       "        vertical-align: middle;\n",
       "    }\n",
       "\n",
       "    .dataframe tbody tr th {\n",
       "        vertical-align: top;\n",
       "    }\n",
       "\n",
       "    .dataframe thead th {\n",
       "        text-align: right;\n",
       "    }\n",
       "</style>\n",
       "<table border=\"1\" class=\"dataframe\">\n",
       "  <thead>\n",
       "    <tr style=\"text-align: right;\">\n",
       "      <th></th>\n",
       "      <th>Attribute</th>\n",
       "      <th>Describe</th>\n",
       "    </tr>\n",
       "  </thead>\n",
       "  <tbody>\n",
       "    <tr>\n",
       "      <th>0</th>\n",
       "      <td>Country</td>\n",
       "      <td>Country in question.</td>\n",
       "    </tr>\n",
       "    <tr>\n",
       "      <th>1</th>\n",
       "      <td>Energy_type</td>\n",
       "      <td>Type of energy source.</td>\n",
       "    </tr>\n",
       "    <tr>\n",
       "      <th>2</th>\n",
       "      <td>Year</td>\n",
       "      <td>Year the data was recorded.</td>\n",
       "    </tr>\n",
       "    <tr>\n",
       "      <th>3</th>\n",
       "      <td>Energy_consumption</td>\n",
       "      <td>Amount of Consumption for the specific energy source, measured (quad Btu).</td>\n",
       "    </tr>\n",
       "    <tr>\n",
       "      <th>4</th>\n",
       "      <td>Energy_production</td>\n",
       "      <td>Amount of Production for the specific energy source, measured (quad Btu).</td>\n",
       "    </tr>\n",
       "    <tr>\n",
       "      <th>5</th>\n",
       "      <td>GDP</td>\n",
       "      <td>Countries GDP at purchasing power parities, measured (Billion 2015$ PPP).</td>\n",
       "    </tr>\n",
       "    <tr>\n",
       "      <th>6</th>\n",
       "      <td>Population</td>\n",
       "      <td>Population of specific Country, measured (Mperson).</td>\n",
       "    </tr>\n",
       "    <tr>\n",
       "      <th>7</th>\n",
       "      <td>Energy_intensity_per_capita</td>\n",
       "      <td>Energy intensity is a measure of the energy inefficiency of an economy. It is calculated as units of energy per unit of capita (capita = individual person), measured (MMBtu/person).</td>\n",
       "    </tr>\n",
       "    <tr>\n",
       "      <th>8</th>\n",
       "      <td>Energy_intensity_by_GDP</td>\n",
       "      <td>Energy intensity is a measure of the energy inefficiency of an economy. It is calculated as units of energy per unit of GDP, measred (1000 Btu/2015$ GDP PPP)</td>\n",
       "    </tr>\n",
       "    <tr>\n",
       "      <th>9</th>\n",
       "      <td>CO2_emission</td>\n",
       "      <td>The amount of C02 emitted, measured (MMtonnes CO2).</td>\n",
       "    </tr>\n",
       "  </tbody>\n",
       "</table>\n",
       "</div>"
      ],
      "text/plain": [
       "                     Attribute  \\\n",
       "0                      Country   \n",
       "1                  Energy_type   \n",
       "2                         Year   \n",
       "3           Energy_consumption   \n",
       "4            Energy_production   \n",
       "5                          GDP   \n",
       "6                   Population   \n",
       "7  Energy_intensity_per_capita   \n",
       "8      Energy_intensity_by_GDP   \n",
       "9                 CO2_emission   \n",
       "\n",
       "                                                                                                                                                                                Describe  \n",
       "0                                                                                                                                                                   Country in question.  \n",
       "1                                                                                                                                                                 Type of energy source.  \n",
       "2                                                                                                                                                            Year the data was recorded.  \n",
       "3                                                                                                             Amount of Consumption for the specific energy source, measured (quad Btu).  \n",
       "4                                                                                                              Amount of Production for the specific energy source, measured (quad Btu).  \n",
       "5                                                                                                              Countries GDP at purchasing power parities, measured (Billion 2015$ PPP).  \n",
       "6                                                                                                                                    Population of specific Country, measured (Mperson).  \n",
       "7  Energy intensity is a measure of the energy inefficiency of an economy. It is calculated as units of energy per unit of capita (capita = individual person), measured (MMBtu/person).  \n",
       "8                          Energy intensity is a measure of the energy inefficiency of an economy. It is calculated as units of energy per unit of GDP, measred (1000 Btu/2015$ GDP PPP)  \n",
       "9                                                                                                                                    The amount of C02 emitted, measured (MMtonnes CO2).  "
      ]
     },
     "execution_count": 5,
     "metadata": {},
     "output_type": "execute_result"
    }
   ],
   "source": [
    "des_df = pd.read_csv('description.csv', encoding='latin-1')\n",
    "pd.set_option('display.max_colwidth', None)\n",
    "des_df"
   ]
  },
  {
   "attachments": {},
   "cell_type": "markdown",
   "metadata": {},
   "source": [
    "## 4.6. Kiểm tra kiểu dữ liệu của các cột và điều chỉnh cho phù hợp <a name = \"section4_6\"></a>\n",
    "[Quay về mục lục](#TOC)"
   ]
  },
  {
   "cell_type": "code",
   "execution_count": 6,
   "metadata": {},
   "outputs": [
    {
     "data": {
      "text/plain": [
       "Country                         object\n",
       "Energy_type                     object\n",
       "Year                             int64\n",
       "Energy_consumption             float64\n",
       "Energy_production              float64\n",
       "GDP                            float64\n",
       "Population                     float64\n",
       "Energy_intensity_per_capita    float64\n",
       "Energy_intensity_by_GDP        float64\n",
       "CO2_emission                   float64\n",
       "dtype: object"
      ]
     },
     "execution_count": 6,
     "metadata": {},
     "output_type": "execute_result"
    }
   ],
   "source": [
    "df.dtypes"
   ]
  },
  {
   "attachments": {},
   "cell_type": "markdown",
   "metadata": {},
   "source": [
    "## 4.7. Tìm sự phân phối của các cột dữ liệu kiểu số <a name = \"section4_7\"></a>\n",
    "[Quay về mục lục](#TOC)"
   ]
  },
  {
   "cell_type": "code",
   "execution_count": 7,
   "metadata": {},
   "outputs": [
    {
     "data": {
      "text/html": [
       "<div>\n",
       "<style scoped>\n",
       "    .dataframe tbody tr th:only-of-type {\n",
       "        vertical-align: middle;\n",
       "    }\n",
       "\n",
       "    .dataframe tbody tr th {\n",
       "        vertical-align: top;\n",
       "    }\n",
       "\n",
       "    .dataframe thead th {\n",
       "        text-align: right;\n",
       "    }\n",
       "</style>\n",
       "<table border=\"1\" class=\"dataframe\">\n",
       "  <thead>\n",
       "    <tr style=\"text-align: right;\">\n",
       "      <th></th>\n",
       "      <th>Year</th>\n",
       "      <th>Energy_consumption</th>\n",
       "      <th>Energy_production</th>\n",
       "      <th>GDP</th>\n",
       "      <th>Population</th>\n",
       "      <th>Energy_intensity_per_capita</th>\n",
       "      <th>Energy_intensity_by_GDP</th>\n",
       "      <th>CO2_emission</th>\n",
       "    </tr>\n",
       "  </thead>\n",
       "  <tbody>\n",
       "    <tr>\n",
       "      <th>mising percentage</th>\n",
       "      <td>0.0</td>\n",
       "      <td>20.117000</td>\n",
       "      <td>2.011400e+01</td>\n",
       "      <td>27.803000</td>\n",
       "      <td>1.700200e+01</td>\n",
       "      <td>9.167000</td>\n",
       "      <td>9.167000</td>\n",
       "      <td>6.901000</td>\n",
       "    </tr>\n",
       "    <tr>\n",
       "      <th>min</th>\n",
       "      <td>1980.0</td>\n",
       "      <td>-0.163438</td>\n",
       "      <td>-1.000000e-39</td>\n",
       "      <td>0.124958</td>\n",
       "      <td>1.147100e+01</td>\n",
       "      <td>0.000000</td>\n",
       "      <td>0.000000</td>\n",
       "      <td>-0.005130</td>\n",
       "    </tr>\n",
       "    <tr>\n",
       "      <th>max</th>\n",
       "      <td>2019.0</td>\n",
       "      <td>601.040490</td>\n",
       "      <td>6.115090e+02</td>\n",
       "      <td>127690.247059</td>\n",
       "      <td>7.714631e+06</td>\n",
       "      <td>1139.320598</td>\n",
       "      <td>166.913605</td>\n",
       "      <td>35584.933498</td>\n",
       "    </tr>\n",
       "  </tbody>\n",
       "</table>\n",
       "</div>"
      ],
      "text/plain": [
       "                     Year  Energy_consumption  Energy_production  \\\n",
       "mising percentage     0.0           20.117000       2.011400e+01   \n",
       "min                1980.0           -0.163438      -1.000000e-39   \n",
       "max                2019.0          601.040490       6.115090e+02   \n",
       "\n",
       "                             GDP    Population  Energy_intensity_per_capita  \\\n",
       "mising percentage      27.803000  1.700200e+01                     9.167000   \n",
       "min                     0.124958  1.147100e+01                     0.000000   \n",
       "max                127690.247059  7.714631e+06                  1139.320598   \n",
       "\n",
       "                   Energy_intensity_by_GDP  CO2_emission  \n",
       "mising percentage                 9.167000      6.901000  \n",
       "min                               0.000000     -0.005130  \n",
       "max                             166.913605  35584.933498  "
      ]
     },
     "execution_count": 7,
     "metadata": {},
     "output_type": "execute_result"
    }
   ],
   "source": [
    "num_df = df.select_dtypes(include='number')\n",
    "\n",
    "mising_percentage = np.round((num_df.isna().sum() / row) * 100, 3)      # tỉ lệ giá trị bị thiếu\n",
    "min_values = num_df.min()                                               # các giá trị nhỏ nhất\n",
    "max_values = num_df.max()                                               # các giá trị lớn nhất\n",
    "\n",
    "num_cols_distribution = pd.DataFrame(data = np.array((mising_percentage, min_values, max_values)),\n",
    "                                                      columns = num_df.columns,\n",
    "                                                      index = ['mising percentage', 'min', 'max'])\n",
    "num_cols_distribution"
   ]
  },
  {
   "attachments": {},
   "cell_type": "markdown",
   "metadata": {},
   "source": [
    "## 4.8. Tìm sự phân phối của các cột dữ liệu phân loại <a name = \"section4_8\"></a>\n",
    "[Quay về mục lục](#TOC)"
   ]
  },
  {
   "cell_type": "code",
   "execution_count": 8,
   "metadata": {},
   "outputs": [
    {
     "data": {
      "text/html": [
       "<div>\n",
       "<style scoped>\n",
       "    .dataframe tbody tr th:only-of-type {\n",
       "        vertical-align: middle;\n",
       "    }\n",
       "\n",
       "    .dataframe tbody tr th {\n",
       "        vertical-align: top;\n",
       "    }\n",
       "\n",
       "    .dataframe thead th {\n",
       "        text-align: right;\n",
       "    }\n",
       "</style>\n",
       "<table border=\"1\" class=\"dataframe\">\n",
       "  <thead>\n",
       "    <tr style=\"text-align: right;\">\n",
       "      <th></th>\n",
       "      <th>Country</th>\n",
       "      <th>Energy_type</th>\n",
       "    </tr>\n",
       "  </thead>\n",
       "  <tbody>\n",
       "    <tr>\n",
       "      <th>mising percentage</th>\n",
       "      <td>0.0</td>\n",
       "      <td>0.0</td>\n",
       "    </tr>\n",
       "    <tr>\n",
       "      <th>num_diff_vals</th>\n",
       "      <td>231</td>\n",
       "      <td>6</td>\n",
       "    </tr>\n",
       "    <tr>\n",
       "      <th>diff_vals</th>\n",
       "      <td>[World, Afghanistan, Albania, Algeria, America...</td>\n",
       "      <td>[all_energy_types, coal, natural_gas, petroleu...</td>\n",
       "    </tr>\n",
       "  </tbody>\n",
       "</table>\n",
       "</div>"
      ],
      "text/plain": [
       "                                                             Country  \\\n",
       "mising percentage                                                0.0   \n",
       "num_diff_vals                                                    231   \n",
       "diff_vals          [World, Afghanistan, Albania, Algeria, America...   \n",
       "\n",
       "                                                         Energy_type  \n",
       "mising percentage                                                0.0  \n",
       "num_diff_vals                                                      6  \n",
       "diff_vals          [all_energy_types, coal, natural_gas, petroleu...  "
      ]
     },
     "execution_count": 8,
     "metadata": {},
     "output_type": "execute_result"
    }
   ],
   "source": [
    "cat_df = df.select_dtypes(exclude = 'number')\n",
    "\n",
    "mising_percentage = (cat_df.isna().sum() / row) * 100           # tỉ lệ giá trị bị thiếu\n",
    "num_diff_vals = cat_df.apply(lambda col: col.nunique())         # số giá trị khác nhau\n",
    "diff_vals = cat_df.apply(lambda col: col.dropna().unique())     # các giá trị khác nhau\n",
    "\n",
    "cat_cols_distribution = pd.DataFrame(data = np.array((mising_percentage, num_diff_vals, diff_vals)),\n",
    "                                     columns = cat_df.columns,\n",
    "                                     index = ['mising percentage', 'num_diff_vals', 'diff_vals'])\n",
    "\n",
    "pd.reset_option(\"display.max_colwidth\")\n",
    "cat_cols_distribution"
   ]
  },
  {
   "attachments": {},
   "cell_type": "markdown",
   "metadata": {},
   "source": [
    "## 4.9. Xử lý các dòng bị thiếu dữ liệu <a name = \"section4_9\"></a>\n",
    "[Quay về mục lục](#TOC)"
   ]
  },
  {
   "cell_type": "code",
   "execution_count": 9,
   "metadata": {},
   "outputs": [],
   "source": [
    "df_test = df[df['Energy_type']!='nuclear']\n",
    "df_test.shape\n",
    "df_test = df_test[df_test['Energy_type']!='renewables_n_other']"
   ]
  },
  {
   "cell_type": "code",
   "execution_count": 10,
   "metadata": {},
   "outputs": [
    {
     "data": {
      "text/plain": [
       "(18480, 10)"
      ]
     },
     "execution_count": 10,
     "metadata": {},
     "output_type": "execute_result"
    }
   ],
   "source": [
    "df_test = df_test[df_test['Year']>=2000]\n",
    "df_test.shape"
   ]
  },
  {
   "cell_type": "code",
   "execution_count": 11,
   "metadata": {},
   "outputs": [
    {
     "data": {
      "text/plain": [
       "(16180, 10)"
      ]
     },
     "execution_count": 11,
     "metadata": {},
     "output_type": "execute_result"
    }
   ],
   "source": [
    "df_test = df_test[(~df_test['Population'].isna())]\n",
    "df_test.shape"
   ]
  },
  {
   "cell_type": "code",
   "execution_count": 12,
   "metadata": {},
   "outputs": [],
   "source": [
    "df_test.head()\n",
    "df_test['Energy_intensity_per_capita'] = df_test['Energy_consumption'] * 1000 / df_test['Population']"
   ]
  },
  {
   "cell_type": "code",
   "execution_count": 13,
   "metadata": {},
   "outputs": [],
   "source": [
    "df_test['Energy_intensity_per_capita'] = df_test['Energy_consumption'] * 1000 / df_test['Population']"
   ]
  },
  {
   "cell_type": "code",
   "execution_count": 14,
   "metadata": {},
   "outputs": [
    {
     "data": {
      "text/html": [
       "<div>\n",
       "<style scoped>\n",
       "    .dataframe tbody tr th:only-of-type {\n",
       "        vertical-align: middle;\n",
       "    }\n",
       "\n",
       "    .dataframe tbody tr th {\n",
       "        vertical-align: top;\n",
       "    }\n",
       "\n",
       "    .dataframe thead th {\n",
       "        text-align: right;\n",
       "    }\n",
       "</style>\n",
       "<table border=\"1\" class=\"dataframe\">\n",
       "  <thead>\n",
       "    <tr style=\"text-align: right;\">\n",
       "      <th></th>\n",
       "      <th>Year</th>\n",
       "      <th>Energy_consumption</th>\n",
       "      <th>Energy_production</th>\n",
       "      <th>GDP</th>\n",
       "      <th>Population</th>\n",
       "      <th>Energy_intensity_per_capita</th>\n",
       "      <th>Energy_intensity_by_GDP</th>\n",
       "      <th>CO2_emission</th>\n",
       "    </tr>\n",
       "  </thead>\n",
       "  <tbody>\n",
       "    <tr>\n",
       "      <th>count</th>\n",
       "      <td>55440.0000</td>\n",
       "      <td>44287.000000</td>\n",
       "      <td>4.428900e+04</td>\n",
       "      <td>40026.000000</td>\n",
       "      <td>4.601400e+04</td>\n",
       "      <td>50358.000000</td>\n",
       "      <td>50358.000000</td>\n",
       "      <td>51614.000000</td>\n",
       "    </tr>\n",
       "    <tr>\n",
       "      <th>mean</th>\n",
       "      <td>1999.5000</td>\n",
       "      <td>1.537811</td>\n",
       "      <td>1.532700e+00</td>\n",
       "      <td>827.144126</td>\n",
       "      <td>6.263020e+04</td>\n",
       "      <td>71.898914</td>\n",
       "      <td>3.695104</td>\n",
       "      <td>78.800082</td>\n",
       "    </tr>\n",
       "    <tr>\n",
       "      <th>std</th>\n",
       "      <td>11.5435</td>\n",
       "      <td>15.456596</td>\n",
       "      <td>1.530356e+01</td>\n",
       "      <td>5981.703144</td>\n",
       "      <td>4.562088e+05</td>\n",
       "      <td>113.728738</td>\n",
       "      <td>4.590735</td>\n",
       "      <td>902.221463</td>\n",
       "    </tr>\n",
       "    <tr>\n",
       "      <th>min</th>\n",
       "      <td>1980.0000</td>\n",
       "      <td>-0.163438</td>\n",
       "      <td>-1.000000e-39</td>\n",
       "      <td>0.124958</td>\n",
       "      <td>1.147100e+01</td>\n",
       "      <td>0.000000</td>\n",
       "      <td>0.000000</td>\n",
       "      <td>-0.005130</td>\n",
       "    </tr>\n",
       "    <tr>\n",
       "      <th>25%</th>\n",
       "      <td>1989.7500</td>\n",
       "      <td>0.000000</td>\n",
       "      <td>0.000000e+00</td>\n",
       "      <td>9.737780</td>\n",
       "      <td>1.141950e+03</td>\n",
       "      <td>3.799939</td>\n",
       "      <td>0.899446</td>\n",
       "      <td>0.000000</td>\n",
       "    </tr>\n",
       "    <tr>\n",
       "      <th>50%</th>\n",
       "      <td>1999.5000</td>\n",
       "      <td>0.018381</td>\n",
       "      <td>5.121971e-04</td>\n",
       "      <td>47.757100</td>\n",
       "      <td>6.157680e+03</td>\n",
       "      <td>29.779260</td>\n",
       "      <td>2.987593</td>\n",
       "      <td>0.000000</td>\n",
       "    </tr>\n",
       "    <tr>\n",
       "      <th>75%</th>\n",
       "      <td>2009.2500</td>\n",
       "      <td>0.209422</td>\n",
       "      <td>1.125410e-01</td>\n",
       "      <td>263.687100</td>\n",
       "      <td>2.004290e+04</td>\n",
       "      <td>95.523627</td>\n",
       "      <td>4.969454</td>\n",
       "      <td>4.318822</td>\n",
       "    </tr>\n",
       "    <tr>\n",
       "      <th>max</th>\n",
       "      <td>2019.0000</td>\n",
       "      <td>601.040490</td>\n",
       "      <td>6.115090e+02</td>\n",
       "      <td>127690.247059</td>\n",
       "      <td>7.714631e+06</td>\n",
       "      <td>1139.320598</td>\n",
       "      <td>166.913605</td>\n",
       "      <td>35584.933498</td>\n",
       "    </tr>\n",
       "  </tbody>\n",
       "</table>\n",
       "</div>"
      ],
      "text/plain": [
       "             Year  Energy_consumption  Energy_production            GDP  \\\n",
       "count  55440.0000        44287.000000       4.428900e+04   40026.000000   \n",
       "mean    1999.5000            1.537811       1.532700e+00     827.144126   \n",
       "std       11.5435           15.456596       1.530356e+01    5981.703144   \n",
       "min     1980.0000           -0.163438      -1.000000e-39       0.124958   \n",
       "25%     1989.7500            0.000000       0.000000e+00       9.737780   \n",
       "50%     1999.5000            0.018381       5.121971e-04      47.757100   \n",
       "75%     2009.2500            0.209422       1.125410e-01     263.687100   \n",
       "max     2019.0000          601.040490       6.115090e+02  127690.247059   \n",
       "\n",
       "         Population  Energy_intensity_per_capita  Energy_intensity_by_GDP  \\\n",
       "count  4.601400e+04                 50358.000000             50358.000000   \n",
       "mean   6.263020e+04                    71.898914                 3.695104   \n",
       "std    4.562088e+05                   113.728738                 4.590735   \n",
       "min    1.147100e+01                     0.000000                 0.000000   \n",
       "25%    1.141950e+03                     3.799939                 0.899446   \n",
       "50%    6.157680e+03                    29.779260                 2.987593   \n",
       "75%    2.004290e+04                    95.523627                 4.969454   \n",
       "max    7.714631e+06                  1139.320598               166.913605   \n",
       "\n",
       "       CO2_emission  \n",
       "count  51614.000000  \n",
       "mean      78.800082  \n",
       "std      902.221463  \n",
       "min       -0.005130  \n",
       "25%        0.000000  \n",
       "50%        0.000000  \n",
       "75%        4.318822  \n",
       "max    35584.933498  "
      ]
     },
     "execution_count": 14,
     "metadata": {},
     "output_type": "execute_result"
    }
   ],
   "source": [
    "df.to_csv('Preprocess_Data.csv',index = None)\n",
    "df.describe()"
   ]
  },
  {
   "attachments": {},
   "cell_type": "markdown",
   "metadata": {},
   "source": [
    "# **5. Phân tích dữ liệu** <a name = \"section5\"></a>\n",
    "[Quay về mục lục](#TOC)"
   ]
  },
  {
   "cell_type": "code",
   "execution_count": null,
   "metadata": {},
   "outputs": [],
   "source": []
  },
  {
   "cell_type": "code",
   "execution_count": null,
   "metadata": {},
   "outputs": [],
   "source": []
  },
  {
   "cell_type": "code",
   "execution_count": null,
   "metadata": {},
   "outputs": [],
   "source": []
  },
  {
   "attachments": {},
   "cell_type": "markdown",
   "metadata": {},
   "source": [
    "# **6. Đôi điều về đồ án** <a name = \"section6\"></a>\n",
    "[Quay về mục lục](#TOC)"
   ]
  },
  {
   "attachments": {},
   "cell_type": "markdown",
   "metadata": {},
   "source": [
    "Mỗi thành viên gặp khó khăn gì?\n",
    "- Tập dữ liệu bị bias khá nhiều, cần tốn khá nhiều thời gian để xử lý hợp lý.\n",
    "\n",
    "Mỗi thành viên học được những gì?\n",
    "- Biết cách phân bổ thời gian hợp lí.\n",
    "\n",
    "Nếu có thêm thời gian, sẽ làm những gì?\n",
    "- Xem lại những câu hỏi cũ, có thể là cụ thể hóa những câu hỏi đó để có thể tìm được đáp án gần chính xác nhất.\n",
    "- Có thể áp dụng các mô hình học máy khác để tìm ra được mô hình tô nhất, từ đó có thể phục vụ cho các câu hỏi liên quan."
   ]
  },
  {
   "attachments": {},
   "cell_type": "markdown",
   "metadata": {},
   "source": [
    "# **7. Nguồn tham khảo** <a name = \"section7\"></a>\n",
    "[Quay về mục lục](#TOC)"
   ]
  }
 ],
 "metadata": {
  "kernelspec": {
   "display_name": "Python 3",
   "language": "python",
   "name": "python3"
  },
  "language_info": {
   "codemirror_mode": {
    "name": "ipython",
    "version": 3
   },
   "file_extension": ".py",
   "mimetype": "text/x-python",
   "name": "python",
   "nbconvert_exporter": "python",
   "pygments_lexer": "ipython3",
   "version": "3.8.8"
  },
  "orig_nbformat": 4
 },
 "nbformat": 4,
 "nbformat_minor": 2
}
